{
 "cells": [
  {
   "cell_type": "code",
   "execution_count": 9,
   "metadata": {
    "collapsed": true
   },
   "outputs": [],
   "source": [
    "import pandas as pd\n",
    "from sklearn.ensemble import RandomForestClassifier\n",
    "from sklearn import datasets, svm, cross_validation"
   ]
  },
  {
   "cell_type": "code",
   "execution_count": 10,
   "metadata": {
    "collapsed": true
   },
   "outputs": [],
   "source": [
    "df_train = pd.read_json('train.json')"
   ]
  },
  {
   "cell_type": "code",
   "execution_count": 11,
   "metadata": {},
   "outputs": [
    {
     "data": {
      "text/html": [
       "<div>\n",
       "<style>\n",
       "    .dataframe thead tr:only-child th {\n",
       "        text-align: right;\n",
       "    }\n",
       "\n",
       "    .dataframe thead th {\n",
       "        text-align: left;\n",
       "    }\n",
       "\n",
       "    .dataframe tbody tr th {\n",
       "        vertical-align: top;\n",
       "    }\n",
       "</style>\n",
       "<table border=\"1\" class=\"dataframe\">\n",
       "  <thead>\n",
       "    <tr style=\"text-align: right;\">\n",
       "      <th></th>\n",
       "      <th>cuisine</th>\n",
       "      <th>id</th>\n",
       "      <th>ingredients</th>\n",
       "    </tr>\n",
       "  </thead>\n",
       "  <tbody>\n",
       "    <tr>\n",
       "      <th>0</th>\n",
       "      <td>greek</td>\n",
       "      <td>10259</td>\n",
       "      <td>[romaine lettuce, black olives, grape tomatoes...</td>\n",
       "    </tr>\n",
       "    <tr>\n",
       "      <th>1</th>\n",
       "      <td>southern_us</td>\n",
       "      <td>25693</td>\n",
       "      <td>[plain flour, ground pepper, salt, tomatoes, g...</td>\n",
       "    </tr>\n",
       "    <tr>\n",
       "      <th>2</th>\n",
       "      <td>filipino</td>\n",
       "      <td>20130</td>\n",
       "      <td>[eggs, pepper, salt, mayonaise, cooking oil, g...</td>\n",
       "    </tr>\n",
       "    <tr>\n",
       "      <th>3</th>\n",
       "      <td>indian</td>\n",
       "      <td>22213</td>\n",
       "      <td>[water, vegetable oil, wheat, salt]</td>\n",
       "    </tr>\n",
       "    <tr>\n",
       "      <th>4</th>\n",
       "      <td>indian</td>\n",
       "      <td>13162</td>\n",
       "      <td>[black pepper, shallots, cornflour, cayenne pe...</td>\n",
       "    </tr>\n",
       "  </tbody>\n",
       "</table>\n",
       "</div>"
      ],
      "text/plain": [
       "       cuisine     id                                        ingredients\n",
       "0        greek  10259  [romaine lettuce, black olives, grape tomatoes...\n",
       "1  southern_us  25693  [plain flour, ground pepper, salt, tomatoes, g...\n",
       "2     filipino  20130  [eggs, pepper, salt, mayonaise, cooking oil, g...\n",
       "3       indian  22213                [water, vegetable oil, wheat, salt]\n",
       "4       indian  13162  [black pepper, shallots, cornflour, cayenne pe..."
      ]
     },
     "execution_count": 11,
     "metadata": {},
     "output_type": "execute_result"
    }
   ],
   "source": [
    "df_train.head()"
   ]
  },
  {
   "cell_type": "code",
   "execution_count": 52,
   "metadata": {
    "collapsed": true
   },
   "outputs": [],
   "source": [
    "%matplotlib inline"
   ]
  },
  {
   "cell_type": "code",
   "execution_count": 53,
   "metadata": {
    "collapsed": true
   },
   "outputs": [],
   "source": [
    "import matplotlib.pyplot as plt\n",
    "plt.style.use('ggplot')"
   ]
  },
  {
   "cell_type": "code",
   "execution_count": 54,
   "metadata": {},
   "outputs": [
    {
     "data": {
      "text/plain": [
       "<matplotlib.axes._subplots.AxesSubplot at 0x113eb6278>"
      ]
     },
     "execution_count": 54,
     "metadata": {},
     "output_type": "execute_result"
    },
    {
     "data": {
      "image/png": "[encoded data removed]",
      "text/plain": [
       "<matplotlib.figure.Figure at 0x113ed3518>"
      ]
     },
     "metadata": {},
     "output_type": "display_data"
    }
   ],
   "source": [
    "df_train['cuisine'].value_counts().plot(kind='bar')"
   ]
  },
  {
   "cell_type": "code",
   "execution_count": 15,
   "metadata": {
    "collapsed": true
   },
   "outputs": [],
   "source": [
    "from collections import Counter"
   ]
  },
  {
   "cell_type": "code",
   "execution_count": 16,
   "metadata": {
    "collapsed": true
   },
   "outputs": [],
   "source": [
    "counters = {}\n",
    "for cuisine in df_train['cuisine'].unique():\n",
    "    counters[cuisine] = Counter()\n",
    "    indices = (df_train['cuisine'] == cuisine)\n",
    "    for ingredients in df_train[indices]['ingredients']:\n",
    "        counters[cuisine].update(ingredients)"
   ]
  },
  {
   "cell_type": "code",
   "execution_count": 17,
   "metadata": {},
   "outputs": [
    {
     "data": {
      "text/plain": [
       "[('salt', 3454),\n",
       " ('olive oil', 3111),\n",
       " ('garlic cloves', 1619),\n",
       " ('grated parmesan cheese', 1580),\n",
       " ('garlic', 1471),\n",
       " ('ground black pepper', 1444),\n",
       " ('extra-virgin olive oil', 1362),\n",
       " ('onions', 1240),\n",
       " ('water', 1052),\n",
       " ('butter', 1030)]"
      ]
     },
     "execution_count": 17,
     "metadata": {},
     "output_type": "execute_result"
    }
   ],
   "source": [
    "counters['italian'].most_common(10)"
   ]
  },
  {
   "cell_type": "code",
   "execution_count": 18,
   "metadata": {},
   "outputs": [
    {
     "data": {
      "text/html": [
       "<div>\n",
       "<style>\n",
       "    .dataframe thead tr:only-child th {\n",
       "        text-align: right;\n",
       "    }\n",
       "\n",
       "    .dataframe thead th {\n",
       "        text-align: left;\n",
       "    }\n",
       "\n",
       "    .dataframe tbody tr th {\n",
       "        vertical-align: top;\n",
       "    }\n",
       "</style>\n",
       "<table border=\"1\" class=\"dataframe\">\n",
       "  <thead>\n",
       "    <tr style=\"text-align: right;\">\n",
       "      <th></th>\n",
       "      <th>top1</th>\n",
       "      <th>top2</th>\n",
       "      <th>top3</th>\n",
       "      <th>top4</th>\n",
       "      <th>top5</th>\n",
       "      <th>top6</th>\n",
       "      <th>top7</th>\n",
       "      <th>top8</th>\n",
       "      <th>top9</th>\n",
       "      <th>top10</th>\n",
       "    </tr>\n",
       "  </thead>\n",
       "  <tbody>\n",
       "    <tr>\n",
       "      <th>greek</th>\n",
       "      <td>salt</td>\n",
       "      <td>olive oil</td>\n",
       "      <td>dried oregano</td>\n",
       "      <td>garlic cloves</td>\n",
       "      <td>feta cheese crumbles</td>\n",
       "      <td>extra-virgin olive oil</td>\n",
       "      <td>fresh lemon juice</td>\n",
       "      <td>ground black pepper</td>\n",
       "      <td>garlic</td>\n",
       "      <td>pepper</td>\n",
       "    </tr>\n",
       "    <tr>\n",
       "      <th>southern_us</th>\n",
       "      <td>salt</td>\n",
       "      <td>butter</td>\n",
       "      <td>all-purpose flour</td>\n",
       "      <td>sugar</td>\n",
       "      <td>large eggs</td>\n",
       "      <td>baking powder</td>\n",
       "      <td>water</td>\n",
       "      <td>unsalted butter</td>\n",
       "      <td>milk</td>\n",
       "      <td>buttermilk</td>\n",
       "    </tr>\n",
       "    <tr>\n",
       "      <th>filipino</th>\n",
       "      <td>salt</td>\n",
       "      <td>garlic</td>\n",
       "      <td>water</td>\n",
       "      <td>onions</td>\n",
       "      <td>soy sauce</td>\n",
       "      <td>pepper</td>\n",
       "      <td>oil</td>\n",
       "      <td>sugar</td>\n",
       "      <td>carrots</td>\n",
       "      <td>ground black pepper</td>\n",
       "    </tr>\n",
       "    <tr>\n",
       "      <th>indian</th>\n",
       "      <td>salt</td>\n",
       "      <td>onions</td>\n",
       "      <td>garam masala</td>\n",
       "      <td>water</td>\n",
       "      <td>ground turmeric</td>\n",
       "      <td>garlic</td>\n",
       "      <td>cumin seed</td>\n",
       "      <td>ground cumin</td>\n",
       "      <td>vegetable oil</td>\n",
       "      <td>oil</td>\n",
       "    </tr>\n",
       "    <tr>\n",
       "      <th>jamaican</th>\n",
       "      <td>salt</td>\n",
       "      <td>onions</td>\n",
       "      <td>water</td>\n",
       "      <td>garlic</td>\n",
       "      <td>ground allspice</td>\n",
       "      <td>pepper</td>\n",
       "      <td>scallions</td>\n",
       "      <td>dried thyme</td>\n",
       "      <td>black pepper</td>\n",
       "      <td>garlic cloves</td>\n",
       "    </tr>\n",
       "    <tr>\n",
       "      <th>spanish</th>\n",
       "      <td>salt</td>\n",
       "      <td>olive oil</td>\n",
       "      <td>garlic cloves</td>\n",
       "      <td>extra-virgin olive oil</td>\n",
       "      <td>onions</td>\n",
       "      <td>water</td>\n",
       "      <td>tomatoes</td>\n",
       "      <td>ground black pepper</td>\n",
       "      <td>red bell pepper</td>\n",
       "      <td>pepper</td>\n",
       "    </tr>\n",
       "    <tr>\n",
       "      <th>italian</th>\n",
       "      <td>salt</td>\n",
       "      <td>olive oil</td>\n",
       "      <td>garlic cloves</td>\n",
       "      <td>grated parmesan cheese</td>\n",
       "      <td>garlic</td>\n",
       "      <td>ground black pepper</td>\n",
       "      <td>extra-virgin olive oil</td>\n",
       "      <td>onions</td>\n",
       "      <td>water</td>\n",
       "      <td>butter</td>\n",
       "    </tr>\n",
       "    <tr>\n",
       "      <th>mexican</th>\n",
       "      <td>salt</td>\n",
       "      <td>onions</td>\n",
       "      <td>ground cumin</td>\n",
       "      <td>garlic</td>\n",
       "      <td>olive oil</td>\n",
       "      <td>chili powder</td>\n",
       "      <td>jalapeno chilies</td>\n",
       "      <td>sour cream</td>\n",
       "      <td>avocado</td>\n",
       "      <td>corn tortillas</td>\n",
       "    </tr>\n",
       "    <tr>\n",
       "      <th>chinese</th>\n",
       "      <td>soy sauce</td>\n",
       "      <td>sesame oil</td>\n",
       "      <td>salt</td>\n",
       "      <td>corn starch</td>\n",
       "      <td>sugar</td>\n",
       "      <td>garlic</td>\n",
       "      <td>water</td>\n",
       "      <td>green onions</td>\n",
       "      <td>vegetable oil</td>\n",
       "      <td>scallions</td>\n",
       "    </tr>\n",
       "    <tr>\n",
       "      <th>british</th>\n",
       "      <td>salt</td>\n",
       "      <td>all-purpose flour</td>\n",
       "      <td>butter</td>\n",
       "      <td>milk</td>\n",
       "      <td>eggs</td>\n",
       "      <td>unsalted butter</td>\n",
       "      <td>sugar</td>\n",
       "      <td>onions</td>\n",
       "      <td>baking powder</td>\n",
       "      <td>large eggs</td>\n",
       "    </tr>\n",
       "    <tr>\n",
       "      <th>thai</th>\n",
       "      <td>fish sauce</td>\n",
       "      <td>garlic</td>\n",
       "      <td>salt</td>\n",
       "      <td>coconut milk</td>\n",
       "      <td>vegetable oil</td>\n",
       "      <td>soy sauce</td>\n",
       "      <td>sugar</td>\n",
       "      <td>water</td>\n",
       "      <td>garlic cloves</td>\n",
       "      <td>fresh lime juice</td>\n",
       "    </tr>\n",
       "    <tr>\n",
       "      <th>vietnamese</th>\n",
       "      <td>fish sauce</td>\n",
       "      <td>sugar</td>\n",
       "      <td>salt</td>\n",
       "      <td>garlic</td>\n",
       "      <td>water</td>\n",
       "      <td>carrots</td>\n",
       "      <td>soy sauce</td>\n",
       "      <td>shallots</td>\n",
       "      <td>garlic cloves</td>\n",
       "      <td>vegetable oil</td>\n",
       "    </tr>\n",
       "    <tr>\n",
       "      <th>cajun_creole</th>\n",
       "      <td>salt</td>\n",
       "      <td>onions</td>\n",
       "      <td>garlic</td>\n",
       "      <td>green bell pepper</td>\n",
       "      <td>butter</td>\n",
       "      <td>olive oil</td>\n",
       "      <td>cayenne pepper</td>\n",
       "      <td>cajun seasoning</td>\n",
       "      <td>all-purpose flour</td>\n",
       "      <td>water</td>\n",
       "    </tr>\n",
       "    <tr>\n",
       "      <th>brazilian</th>\n",
       "      <td>salt</td>\n",
       "      <td>onions</td>\n",
       "      <td>olive oil</td>\n",
       "      <td>lime</td>\n",
       "      <td>water</td>\n",
       "      <td>garlic cloves</td>\n",
       "      <td>garlic</td>\n",
       "      <td>cachaca</td>\n",
       "      <td>sugar</td>\n",
       "      <td>tomatoes</td>\n",
       "    </tr>\n",
       "    <tr>\n",
       "      <th>french</th>\n",
       "      <td>salt</td>\n",
       "      <td>sugar</td>\n",
       "      <td>all-purpose flour</td>\n",
       "      <td>unsalted butter</td>\n",
       "      <td>olive oil</td>\n",
       "      <td>butter</td>\n",
       "      <td>water</td>\n",
       "      <td>large eggs</td>\n",
       "      <td>garlic cloves</td>\n",
       "      <td>ground black pepper</td>\n",
       "    </tr>\n",
       "    <tr>\n",
       "      <th>japanese</th>\n",
       "      <td>soy sauce</td>\n",
       "      <td>salt</td>\n",
       "      <td>mirin</td>\n",
       "      <td>sugar</td>\n",
       "      <td>water</td>\n",
       "      <td>sake</td>\n",
       "      <td>rice vinegar</td>\n",
       "      <td>vegetable oil</td>\n",
       "      <td>scallions</td>\n",
       "      <td>ginger</td>\n",
       "    </tr>\n",
       "    <tr>\n",
       "      <th>irish</th>\n",
       "      <td>salt</td>\n",
       "      <td>all-purpose flour</td>\n",
       "      <td>butter</td>\n",
       "      <td>onions</td>\n",
       "      <td>sugar</td>\n",
       "      <td>potatoes</td>\n",
       "      <td>baking soda</td>\n",
       "      <td>baking powder</td>\n",
       "      <td>milk</td>\n",
       "      <td>carrots</td>\n",
       "    </tr>\n",
       "    <tr>\n",
       "      <th>korean</th>\n",
       "      <td>soy sauce</td>\n",
       "      <td>sesame oil</td>\n",
       "      <td>garlic</td>\n",
       "      <td>green onions</td>\n",
       "      <td>sugar</td>\n",
       "      <td>salt</td>\n",
       "      <td>water</td>\n",
       "      <td>sesame seeds</td>\n",
       "      <td>onions</td>\n",
       "      <td>scallions</td>\n",
       "    </tr>\n",
       "    <tr>\n",
       "      <th>moroccan</th>\n",
       "      <td>salt</td>\n",
       "      <td>olive oil</td>\n",
       "      <td>ground cumin</td>\n",
       "      <td>onions</td>\n",
       "      <td>ground cinnamon</td>\n",
       "      <td>garlic cloves</td>\n",
       "      <td>water</td>\n",
       "      <td>ground ginger</td>\n",
       "      <td>carrots</td>\n",
       "      <td>paprika</td>\n",
       "    </tr>\n",
       "    <tr>\n",
       "      <th>russian</th>\n",
       "      <td>salt</td>\n",
       "      <td>sugar</td>\n",
       "      <td>onions</td>\n",
       "      <td>all-purpose flour</td>\n",
       "      <td>sour cream</td>\n",
       "      <td>eggs</td>\n",
       "      <td>water</td>\n",
       "      <td>butter</td>\n",
       "      <td>unsalted butter</td>\n",
       "      <td>large eggs</td>\n",
       "    </tr>\n",
       "  </tbody>\n",
       "</table>\n",
       "</div>"
      ],
      "text/plain": [
       "                    top1               top2               top3  \\\n",
       "greek               salt          olive oil      dried oregano   \n",
       "southern_us         salt             butter  all-purpose flour   \n",
       "filipino            salt             garlic              water   \n",
       "indian              salt             onions       garam masala   \n",
       "jamaican            salt             onions              water   \n",
       "spanish             salt          olive oil      garlic cloves   \n",
       "italian             salt          olive oil      garlic cloves   \n",
       "mexican             salt             onions       ground cumin   \n",
       "chinese        soy sauce         sesame oil               salt   \n",
       "british             salt  all-purpose flour             butter   \n",
       "thai          fish sauce             garlic               salt   \n",
       "vietnamese    fish sauce              sugar               salt   \n",
       "cajun_creole        salt             onions             garlic   \n",
       "brazilian           salt             onions          olive oil   \n",
       "french              salt              sugar  all-purpose flour   \n",
       "japanese       soy sauce               salt              mirin   \n",
       "irish               salt  all-purpose flour             butter   \n",
       "korean         soy sauce         sesame oil             garlic   \n",
       "moroccan            salt          olive oil       ground cumin   \n",
       "russian             salt              sugar             onions   \n",
       "\n",
       "                                top4                  top5  \\\n",
       "greek                  garlic cloves  feta cheese crumbles   \n",
       "southern_us                    sugar            large eggs   \n",
       "filipino                      onions             soy sauce   \n",
       "indian                         water       ground turmeric   \n",
       "jamaican                      garlic       ground allspice   \n",
       "spanish       extra-virgin olive oil                onions   \n",
       "italian       grated parmesan cheese                garlic   \n",
       "mexican                       garlic             olive oil   \n",
       "chinese                  corn starch                 sugar   \n",
       "british                         milk                  eggs   \n",
       "thai                    coconut milk         vegetable oil   \n",
       "vietnamese                    garlic                 water   \n",
       "cajun_creole       green bell pepper                butter   \n",
       "brazilian                       lime                 water   \n",
       "french               unsalted butter             olive oil   \n",
       "japanese                       sugar                 water   \n",
       "irish                         onions                 sugar   \n",
       "korean                  green onions                 sugar   \n",
       "moroccan                      onions       ground cinnamon   \n",
       "russian            all-purpose flour            sour cream   \n",
       "\n",
       "                                top6                    top7  \\\n",
       "greek         extra-virgin olive oil       fresh lemon juice   \n",
       "southern_us            baking powder                   water   \n",
       "filipino                      pepper                     oil   \n",
       "indian                        garlic              cumin seed   \n",
       "jamaican                      pepper               scallions   \n",
       "spanish                        water                tomatoes   \n",
       "italian          ground black pepper  extra-virgin olive oil   \n",
       "mexican                 chili powder        jalapeno chilies   \n",
       "chinese                       garlic                   water   \n",
       "british              unsalted butter                   sugar   \n",
       "thai                       soy sauce                   sugar   \n",
       "vietnamese                   carrots               soy sauce   \n",
       "cajun_creole               olive oil          cayenne pepper   \n",
       "brazilian              garlic cloves                  garlic   \n",
       "french                        butter                   water   \n",
       "japanese                        sake            rice vinegar   \n",
       "irish                       potatoes             baking soda   \n",
       "korean                          salt                   water   \n",
       "moroccan               garlic cloves                   water   \n",
       "russian                         eggs                   water   \n",
       "\n",
       "                             top8               top9                top10  \n",
       "greek         ground black pepper             garlic               pepper  \n",
       "southern_us       unsalted butter               milk           buttermilk  \n",
       "filipino                    sugar            carrots  ground black pepper  \n",
       "indian               ground cumin      vegetable oil                  oil  \n",
       "jamaican              dried thyme       black pepper        garlic cloves  \n",
       "spanish       ground black pepper    red bell pepper               pepper  \n",
       "italian                    onions              water               butter  \n",
       "mexican                sour cream            avocado       corn tortillas  \n",
       "chinese              green onions      vegetable oil            scallions  \n",
       "british                    onions      baking powder           large eggs  \n",
       "thai                        water      garlic cloves     fresh lime juice  \n",
       "vietnamese               shallots      garlic cloves        vegetable oil  \n",
       "cajun_creole      cajun seasoning  all-purpose flour                water  \n",
       "brazilian                 cachaca              sugar             tomatoes  \n",
       "french                 large eggs      garlic cloves  ground black pepper  \n",
       "japanese            vegetable oil          scallions               ginger  \n",
       "irish               baking powder               milk              carrots  \n",
       "korean               sesame seeds             onions            scallions  \n",
       "moroccan            ground ginger            carrots              paprika  \n",
       "russian                    butter    unsalted butter           large eggs  "
      ]
     },
     "execution_count": 18,
     "metadata": {},
     "output_type": "execute_result"
    }
   ],
   "source": [
    "top10 = pd.DataFrame([[items[0] for items in counters[cuisine].most_common(10)] for cuisine in counters],\n",
    "            index=[cuisine for cuisine in counters],\n",
    "            columns=['top{}'.format(i) for i in range(1, 11)])\n",
    "top10"
   ]
  },
  {
   "cell_type": "code",
   "execution_count": 19,
   "metadata": {
    "collapsed": true
   },
   "outputs": [],
   "source": [
    "df_train['all_ingredients'] = df_train['ingredients'].map(\";\".join)"
   ]
  },
  {
   "cell_type": "code",
   "execution_count": 20,
   "metadata": {},
   "outputs": [
    {
     "data": {
      "text/html": [
       "<div>\n",
       "<style>\n",
       "    .dataframe thead tr:only-child th {\n",
       "        text-align: right;\n",
       "    }\n",
       "\n",
       "    .dataframe thead th {\n",
       "        text-align: left;\n",
       "    }\n",
       "\n",
       "    .dataframe tbody tr th {\n",
       "        vertical-align: top;\n",
       "    }\n",
       "</style>\n",
       "<table border=\"1\" class=\"dataframe\">\n",
       "  <thead>\n",
       "    <tr style=\"text-align: right;\">\n",
       "      <th></th>\n",
       "      <th>cuisine</th>\n",
       "      <th>id</th>\n",
       "      <th>ingredients</th>\n",
       "      <th>all_ingredients</th>\n",
       "    </tr>\n",
       "  </thead>\n",
       "  <tbody>\n",
       "    <tr>\n",
       "      <th>0</th>\n",
       "      <td>greek</td>\n",
       "      <td>10259</td>\n",
       "      <td>[romaine lettuce, black olives, grape tomatoes...</td>\n",
       "      <td>romaine lettuce;black olives;grape tomatoes;ga...</td>\n",
       "    </tr>\n",
       "    <tr>\n",
       "      <th>1</th>\n",
       "      <td>southern_us</td>\n",
       "      <td>25693</td>\n",
       "      <td>[plain flour, ground pepper, salt, tomatoes, g...</td>\n",
       "      <td>plain flour;ground pepper;salt;tomatoes;ground...</td>\n",
       "    </tr>\n",
       "    <tr>\n",
       "      <th>2</th>\n",
       "      <td>filipino</td>\n",
       "      <td>20130</td>\n",
       "      <td>[eggs, pepper, salt, mayonaise, cooking oil, g...</td>\n",
       "      <td>eggs;pepper;salt;mayonaise;cooking oil;green c...</td>\n",
       "    </tr>\n",
       "    <tr>\n",
       "      <th>3</th>\n",
       "      <td>indian</td>\n",
       "      <td>22213</td>\n",
       "      <td>[water, vegetable oil, wheat, salt]</td>\n",
       "      <td>water;vegetable oil;wheat;salt</td>\n",
       "    </tr>\n",
       "    <tr>\n",
       "      <th>4</th>\n",
       "      <td>indian</td>\n",
       "      <td>13162</td>\n",
       "      <td>[black pepper, shallots, cornflour, cayenne pe...</td>\n",
       "      <td>black pepper;shallots;cornflour;cayenne pepper...</td>\n",
       "    </tr>\n",
       "  </tbody>\n",
       "</table>\n",
       "</div>"
      ],
      "text/plain": [
       "       cuisine     id                                        ingredients  \\\n",
       "0        greek  10259  [romaine lettuce, black olives, grape tomatoes...   \n",
       "1  southern_us  25693  [plain flour, ground pepper, salt, tomatoes, g...   \n",
       "2     filipino  20130  [eggs, pepper, salt, mayonaise, cooking oil, g...   \n",
       "3       indian  22213                [water, vegetable oil, wheat, salt]   \n",
       "4       indian  13162  [black pepper, shallots, cornflour, cayenne pe...   \n",
       "\n",
       "                                     all_ingredients  \n",
       "0  romaine lettuce;black olives;grape tomatoes;ga...  \n",
       "1  plain flour;ground pepper;salt;tomatoes;ground...  \n",
       "2  eggs;pepper;salt;mayonaise;cooking oil;green c...  \n",
       "3                     water;vegetable oil;wheat;salt  \n",
       "4  black pepper;shallots;cornflour;cayenne pepper...  "
      ]
     },
     "execution_count": 20,
     "metadata": {},
     "output_type": "execute_result"
    }
   ],
   "source": [
    "df_train.head()"
   ]
  },
  {
   "cell_type": "code",
   "execution_count": 21,
   "metadata": {},
   "outputs": [
    {
     "data": {
      "text/plain": [
       "0        False\n",
       "1        False\n",
       "2        False\n",
       "3        False\n",
       "4        False\n",
       "5        False\n",
       "6        False\n",
       "7        False\n",
       "8        False\n",
       "9        False\n",
       "10       False\n",
       "11       False\n",
       "12        True\n",
       "13       False\n",
       "14       False\n",
       "15       False\n",
       "16       False\n",
       "17       False\n",
       "18       False\n",
       "19       False\n",
       "20       False\n",
       "21       False\n",
       "22       False\n",
       "23       False\n",
       "24       False\n",
       "25       False\n",
       "26       False\n",
       "27       False\n",
       "28       False\n",
       "29       False\n",
       "         ...  \n",
       "39744     True\n",
       "39745    False\n",
       "39746    False\n",
       "39747    False\n",
       "39748    False\n",
       "39749    False\n",
       "39750    False\n",
       "39751    False\n",
       "39752    False\n",
       "39753     True\n",
       "39754     True\n",
       "39755    False\n",
       "39756    False\n",
       "39757     True\n",
       "39758    False\n",
       "39759    False\n",
       "39760    False\n",
       "39761     True\n",
       "39762    False\n",
       "39763    False\n",
       "39764    False\n",
       "39765    False\n",
       "39766    False\n",
       "39767    False\n",
       "39768    False\n",
       "39769    False\n",
       "39770    False\n",
       "39771    False\n",
       "39772    False\n",
       "39773    False\n",
       "Name: all_ingredients, Length: 39774, dtype: bool"
      ]
     },
     "execution_count": 21,
     "metadata": {},
     "output_type": "execute_result"
    }
   ],
   "source": [
    "df_train['all_ingredients'].str.contains('garlic cloves')"
   ]
  },
  {
   "cell_type": "code",
   "execution_count": 22,
   "metadata": {},
   "outputs": [
    {
     "data": {
      "text/plain": [
       "<matplotlib.axes._subplots.AxesSubplot at 0x11a354d68>"
      ]
     },
     "execution_count": 22,
     "metadata": {},
     "output_type": "execute_result"
    },
    {
     "data": {
      "image/png": "[encoded data removed]",
      "text/plain": [
       "<matplotlib.figure.Figure at 0x11a4b99b0>"
      ]
     },
     "metadata": {},
     "output_type": "display_data"
    }
   ],
   "source": [
    "indices = df_train['all_ingredients'].str.contains('garlic cloves')\n",
    "df_train[indices]['cuisine'].value_counts().plot(kind='bar',\n",
    "                                                 title='garlic cloves as found per cuisine')"
   ]
  },
  {
   "cell_type": "code",
   "execution_count": 23,
   "metadata": {},
   "outputs": [
    {
     "data": {
      "text/plain": [
       "array(['all-purpose flour', 'avocado', 'baking powder', 'baking soda',\n",
       "       'black pepper', 'butter', 'buttermilk', 'cachaca',\n",
       "       'cajun seasoning', 'carrots', 'cayenne pepper', 'chili powder',\n",
       "       'coconut milk', 'corn starch', 'corn tortillas', 'cumin seed',\n",
       "       'dried oregano', 'dried thyme', 'eggs', 'extra-virgin olive oil',\n",
       "       'feta cheese crumbles', 'fish sauce', 'fresh lemon juice',\n",
       "       'fresh lime juice', 'garam masala', 'garlic', 'garlic cloves',\n",
       "       'ginger', 'grated parmesan cheese', 'green bell pepper',\n",
       "       'green onions', 'ground allspice', 'ground black pepper',\n",
       "       'ground cinnamon', 'ground cumin', 'ground ginger',\n",
       "       'ground turmeric', 'jalapeno chilies', 'large eggs', 'lime', 'milk',\n",
       "       'mirin', 'oil', 'olive oil', 'onions', 'paprika', 'pepper',\n",
       "       'potatoes', 'red bell pepper', 'rice vinegar', 'sake', 'salt',\n",
       "       'scallions', 'sesame oil', 'sesame seeds', 'shallots', 'sour cream',\n",
       "       'soy sauce', 'sugar', 'tomatoes', 'unsalted butter',\n",
       "       'vegetable oil', 'water'], dtype=object)"
      ]
     },
     "execution_count": 23,
     "metadata": {},
     "output_type": "execute_result"
    }
   ],
   "source": [
    "import numpy as np\n",
    "unique = np.unique(top10.values.ravel())\n",
    "unique"
   ]
  },
  {
   "cell_type": "code",
   "execution_count": 24,
   "metadata": {},
   "outputs": [
    {
     "data": {
      "image/png": "[encoded data removed]",
      "text/plain": [
       "<matplotlib.figure.Figure at 0x11a7a2d68>"
      ]
     },
     "metadata": {},
     "output_type": "display_data"
    }
   ],
   "source": [
    "fig, axes = plt.subplots(8, 8, figsize=(20, 20))\n",
    "for ingredient, ax_index in zip(unique, range(64)):\n",
    "    indices = df_train['all_ingredients'].str.contains(ingredient)\n",
    "    relative_freq = (df_train[indices]['cuisine'].value_counts() / df_train['cuisine'].value_counts())\n",
    "    relative_freq.plot(kind='bar', ax=axes.ravel()[ax_index], fontsize=7, title=ingredient)"
   ]
  },
  {
   "cell_type": "code",
   "execution_count": 25,
   "metadata": {
    "collapsed": true
   },
   "outputs": [],
   "source": [
    "from sklearn.feature_extraction.text import CountVectorizer"
   ]
  },
  {
   "cell_type": "code",
   "execution_count": 26,
   "metadata": {
    "collapsed": true
   },
   "outputs": [],
   "source": [
    "cv = CountVectorizer()"
   ]
  },
  {
   "cell_type": "code",
   "execution_count": 27,
   "metadata": {
    "collapsed": true
   },
   "outputs": [],
   "source": [
    "X = cv.fit_transform(df_train['all_ingredients'].values)"
   ]
  },
  {
   "cell_type": "code",
   "execution_count": 29,
   "metadata": {},
   "outputs": [
    {
     "data": {
      "text/html": [
       "<div>\n",
       "<style>\n",
       "    .dataframe thead tr:only-child th {\n",
       "        text-align: right;\n",
       "    }\n",
       "\n",
       "    .dataframe thead th {\n",
       "        text-align: left;\n",
       "    }\n",
       "\n",
       "    .dataframe tbody tr th {\n",
       "        vertical-align: top;\n",
       "    }\n",
       "</style>\n",
       "<table border=\"1\" class=\"dataframe\">\n",
       "  <thead>\n",
       "    <tr style=\"text-align: right;\">\n",
       "      <th></th>\n",
       "      <th>cuisine</th>\n",
       "      <th>id</th>\n",
       "      <th>ingredients</th>\n",
       "      <th>all_ingredients</th>\n",
       "    </tr>\n",
       "  </thead>\n",
       "  <tbody>\n",
       "    <tr>\n",
       "      <th>0</th>\n",
       "      <td>greek</td>\n",
       "      <td>10259</td>\n",
       "      <td>[romaine lettuce, black olives, grape tomatoes...</td>\n",
       "      <td>romaine lettuce;black olives;grape tomatoes;ga...</td>\n",
       "    </tr>\n",
       "    <tr>\n",
       "      <th>1</th>\n",
       "      <td>southern_us</td>\n",
       "      <td>25693</td>\n",
       "      <td>[plain flour, ground pepper, salt, tomatoes, g...</td>\n",
       "      <td>plain flour;ground pepper;salt;tomatoes;ground...</td>\n",
       "    </tr>\n",
       "    <tr>\n",
       "      <th>2</th>\n",
       "      <td>filipino</td>\n",
       "      <td>20130</td>\n",
       "      <td>[eggs, pepper, salt, mayonaise, cooking oil, g...</td>\n",
       "      <td>eggs;pepper;salt;mayonaise;cooking oil;green c...</td>\n",
       "    </tr>\n",
       "    <tr>\n",
       "      <th>3</th>\n",
       "      <td>indian</td>\n",
       "      <td>22213</td>\n",
       "      <td>[water, vegetable oil, wheat, salt]</td>\n",
       "      <td>water;vegetable oil;wheat;salt</td>\n",
       "    </tr>\n",
       "    <tr>\n",
       "      <th>4</th>\n",
       "      <td>indian</td>\n",
       "      <td>13162</td>\n",
       "      <td>[black pepper, shallots, cornflour, cayenne pe...</td>\n",
       "      <td>black pepper;shallots;cornflour;cayenne pepper...</td>\n",
       "    </tr>\n",
       "    <tr>\n",
       "      <th>5</th>\n",
       "      <td>jamaican</td>\n",
       "      <td>6602</td>\n",
       "      <td>[plain flour, sugar, butter, eggs, fresh ginge...</td>\n",
       "      <td>plain flour;sugar;butter;eggs;fresh ginger roo...</td>\n",
       "    </tr>\n",
       "    <tr>\n",
       "      <th>6</th>\n",
       "      <td>spanish</td>\n",
       "      <td>42779</td>\n",
       "      <td>[olive oil, salt, medium shrimp, pepper, garli...</td>\n",
       "      <td>olive oil;salt;medium shrimp;pepper;garlic;cho...</td>\n",
       "    </tr>\n",
       "    <tr>\n",
       "      <th>7</th>\n",
       "      <td>italian</td>\n",
       "      <td>3735</td>\n",
       "      <td>[sugar, pistachio nuts, white almond bark, flo...</td>\n",
       "      <td>sugar;pistachio nuts;white almond bark;flour;v...</td>\n",
       "    </tr>\n",
       "    <tr>\n",
       "      <th>8</th>\n",
       "      <td>mexican</td>\n",
       "      <td>16903</td>\n",
       "      <td>[olive oil, purple onion, fresh pineapple, por...</td>\n",
       "      <td>olive oil;purple onion;fresh pineapple;pork;po...</td>\n",
       "    </tr>\n",
       "    <tr>\n",
       "      <th>9</th>\n",
       "      <td>italian</td>\n",
       "      <td>12734</td>\n",
       "      <td>[chopped tomatoes, fresh basil, garlic, extra-...</td>\n",
       "      <td>chopped tomatoes;fresh basil;garlic;extra-virg...</td>\n",
       "    </tr>\n",
       "    <tr>\n",
       "      <th>10</th>\n",
       "      <td>italian</td>\n",
       "      <td>5875</td>\n",
       "      <td>[pimentos, sweet pepper, dried oregano, olive ...</td>\n",
       "      <td>pimentos;sweet pepper;dried oregano;olive oil;...</td>\n",
       "    </tr>\n",
       "    <tr>\n",
       "      <th>11</th>\n",
       "      <td>chinese</td>\n",
       "      <td>45887</td>\n",
       "      <td>[low sodium soy sauce, fresh ginger, dry musta...</td>\n",
       "      <td>low sodium soy sauce;fresh ginger;dry mustard;...</td>\n",
       "    </tr>\n",
       "    <tr>\n",
       "      <th>12</th>\n",
       "      <td>italian</td>\n",
       "      <td>2698</td>\n",
       "      <td>[Italian parsley leaves, walnuts, hot red pepp...</td>\n",
       "      <td>Italian parsley leaves;walnuts;hot red pepper ...</td>\n",
       "    </tr>\n",
       "    <tr>\n",
       "      <th>13</th>\n",
       "      <td>mexican</td>\n",
       "      <td>41995</td>\n",
       "      <td>[ground cinnamon, fresh cilantro, chili powder...</td>\n",
       "      <td>ground cinnamon;fresh cilantro;chili powder;gr...</td>\n",
       "    </tr>\n",
       "    <tr>\n",
       "      <th>14</th>\n",
       "      <td>italian</td>\n",
       "      <td>31908</td>\n",
       "      <td>[fresh parmesan cheese, butter, all-purpose fl...</td>\n",
       "      <td>fresh parmesan cheese;butter;all-purpose flour...</td>\n",
       "    </tr>\n",
       "    <tr>\n",
       "      <th>15</th>\n",
       "      <td>indian</td>\n",
       "      <td>24717</td>\n",
       "      <td>[tumeric, vegetable stock, tomatoes, garam mas...</td>\n",
       "      <td>tumeric;vegetable stock;tomatoes;garam masala;...</td>\n",
       "    </tr>\n",
       "    <tr>\n",
       "      <th>16</th>\n",
       "      <td>british</td>\n",
       "      <td>34466</td>\n",
       "      <td>[greek yogurt, lemon curd, confectioners sugar...</td>\n",
       "      <td>greek yogurt;lemon curd;confectioners sugar;ra...</td>\n",
       "    </tr>\n",
       "    <tr>\n",
       "      <th>17</th>\n",
       "      <td>italian</td>\n",
       "      <td>1420</td>\n",
       "      <td>[italian seasoning, broiler-fryer chicken, may...</td>\n",
       "      <td>italian seasoning;broiler-fryer chicken;mayona...</td>\n",
       "    </tr>\n",
       "    <tr>\n",
       "      <th>18</th>\n",
       "      <td>thai</td>\n",
       "      <td>2941</td>\n",
       "      <td>[sugar, hot chili, asian fish sauce, lime juice]</td>\n",
       "      <td>sugar;hot chili;asian fish sauce;lime juice</td>\n",
       "    </tr>\n",
       "    <tr>\n",
       "      <th>19</th>\n",
       "      <td>vietnamese</td>\n",
       "      <td>8152</td>\n",
       "      <td>[soy sauce, vegetable oil, red bell pepper, ch...</td>\n",
       "      <td>soy sauce;vegetable oil;red bell pepper;chicke...</td>\n",
       "    </tr>\n",
       "    <tr>\n",
       "      <th>20</th>\n",
       "      <td>thai</td>\n",
       "      <td>13121</td>\n",
       "      <td>[pork loin, roasted peanuts, chopped cilantro ...</td>\n",
       "      <td>pork loin;roasted peanuts;chopped cilantro fre...</td>\n",
       "    </tr>\n",
       "    <tr>\n",
       "      <th>21</th>\n",
       "      <td>mexican</td>\n",
       "      <td>40523</td>\n",
       "      <td>[roma tomatoes, kosher salt, purple onion, jal...</td>\n",
       "      <td>roma tomatoes;kosher salt;purple onion;jalapen...</td>\n",
       "    </tr>\n",
       "    <tr>\n",
       "      <th>22</th>\n",
       "      <td>southern_us</td>\n",
       "      <td>40989</td>\n",
       "      <td>[low-fat mayonnaise, pepper, salt, baking pota...</td>\n",
       "      <td>low-fat mayonnaise;pepper;salt;baking potatoes...</td>\n",
       "    </tr>\n",
       "    <tr>\n",
       "      <th>23</th>\n",
       "      <td>chinese</td>\n",
       "      <td>29630</td>\n",
       "      <td>[sesame seeds, red pepper, yellow peppers, wat...</td>\n",
       "      <td>sesame seeds;red pepper;yellow peppers;water;e...</td>\n",
       "    </tr>\n",
       "    <tr>\n",
       "      <th>24</th>\n",
       "      <td>italian</td>\n",
       "      <td>49136</td>\n",
       "      <td>[marinara sauce, flat leaf parsley, olive oil,...</td>\n",
       "      <td>marinara sauce;flat leaf parsley;olive oil;lin...</td>\n",
       "    </tr>\n",
       "    <tr>\n",
       "      <th>25</th>\n",
       "      <td>chinese</td>\n",
       "      <td>26705</td>\n",
       "      <td>[sugar, lo mein noodles, salt, chicken broth, ...</td>\n",
       "      <td>sugar;lo mein noodles;salt;chicken broth;light...</td>\n",
       "    </tr>\n",
       "    <tr>\n",
       "      <th>26</th>\n",
       "      <td>cajun_creole</td>\n",
       "      <td>27976</td>\n",
       "      <td>[herbs, lemon juice, fresh tomatoes, paprika, ...</td>\n",
       "      <td>herbs;lemon juice;fresh tomatoes;paprika;mango...</td>\n",
       "    </tr>\n",
       "    <tr>\n",
       "      <th>27</th>\n",
       "      <td>italian</td>\n",
       "      <td>22087</td>\n",
       "      <td>[ground black pepper, butter, sliced mushrooms...</td>\n",
       "      <td>ground black pepper;butter;sliced mushrooms;sh...</td>\n",
       "    </tr>\n",
       "    <tr>\n",
       "      <th>28</th>\n",
       "      <td>chinese</td>\n",
       "      <td>9197</td>\n",
       "      <td>[green bell pepper, egg roll wrappers, sweet a...</td>\n",
       "      <td>green bell pepper;egg roll wrappers;sweet and ...</td>\n",
       "    </tr>\n",
       "    <tr>\n",
       "      <th>29</th>\n",
       "      <td>mexican</td>\n",
       "      <td>1299</td>\n",
       "      <td>[flour tortillas, cheese, breakfast sausages, ...</td>\n",
       "      <td>flour tortillas;cheese;breakfast sausages;larg...</td>\n",
       "    </tr>\n",
       "    <tr>\n",
       "      <th>...</th>\n",
       "      <td>...</td>\n",
       "      <td>...</td>\n",
       "      <td>...</td>\n",
       "      <td>...</td>\n",
       "    </tr>\n",
       "    <tr>\n",
       "      <th>39744</th>\n",
       "      <td>greek</td>\n",
       "      <td>5680</td>\n",
       "      <td>[extra-virgin olive oil, oregano, potatoes, ga...</td>\n",
       "      <td>extra-virgin olive oil;oregano;potatoes;garlic...</td>\n",
       "    </tr>\n",
       "    <tr>\n",
       "      <th>39745</th>\n",
       "      <td>spanish</td>\n",
       "      <td>5511</td>\n",
       "      <td>[quinoa, extra-virgin olive oil, fresh thyme l...</td>\n",
       "      <td>quinoa;extra-virgin olive oil;fresh thyme leav...</td>\n",
       "    </tr>\n",
       "    <tr>\n",
       "      <th>39746</th>\n",
       "      <td>indian</td>\n",
       "      <td>32051</td>\n",
       "      <td>[clove, bay leaves, ginger, chopped cilantro, ...</td>\n",
       "      <td>clove;bay leaves;ginger;chopped cilantro;groun...</td>\n",
       "    </tr>\n",
       "    <tr>\n",
       "      <th>39747</th>\n",
       "      <td>moroccan</td>\n",
       "      <td>5119</td>\n",
       "      <td>[water, sugar, grated lemon zest, butter, pitt...</td>\n",
       "      <td>water;sugar;grated lemon zest;butter;pitted da...</td>\n",
       "    </tr>\n",
       "    <tr>\n",
       "      <th>39748</th>\n",
       "      <td>italian</td>\n",
       "      <td>9526</td>\n",
       "      <td>[sea salt, pizza doughs, all-purpose flour, co...</td>\n",
       "      <td>sea salt;pizza doughs;all-purpose flour;cornme...</td>\n",
       "    </tr>\n",
       "    <tr>\n",
       "      <th>39749</th>\n",
       "      <td>mexican</td>\n",
       "      <td>45599</td>\n",
       "      <td>[kosher salt, minced onion, tortilla chips, su...</td>\n",
       "      <td>kosher salt;minced onion;tortilla chips;sugar;...</td>\n",
       "    </tr>\n",
       "    <tr>\n",
       "      <th>39750</th>\n",
       "      <td>mexican</td>\n",
       "      <td>49670</td>\n",
       "      <td>[ground black pepper, chicken breasts, salsa, ...</td>\n",
       "      <td>ground black pepper;chicken breasts;salsa;ched...</td>\n",
       "    </tr>\n",
       "    <tr>\n",
       "      <th>39751</th>\n",
       "      <td>moroccan</td>\n",
       "      <td>30735</td>\n",
       "      <td>[olive oil, cayenne pepper, chopped cilantro f...</td>\n",
       "      <td>olive oil;cayenne pepper;chopped cilantro fres...</td>\n",
       "    </tr>\n",
       "    <tr>\n",
       "      <th>39752</th>\n",
       "      <td>southern_us</td>\n",
       "      <td>5911</td>\n",
       "      <td>[self rising flour, milk, white sugar, butter,...</td>\n",
       "      <td>self rising flour;milk;white sugar;butter;peac...</td>\n",
       "    </tr>\n",
       "    <tr>\n",
       "      <th>39753</th>\n",
       "      <td>italian</td>\n",
       "      <td>33294</td>\n",
       "      <td>[rosemary sprigs, lemon zest, garlic cloves, g...</td>\n",
       "      <td>rosemary sprigs;lemon zest;garlic cloves;groun...</td>\n",
       "    </tr>\n",
       "    <tr>\n",
       "      <th>39754</th>\n",
       "      <td>vietnamese</td>\n",
       "      <td>27082</td>\n",
       "      <td>[jasmine rice, bay leaves, sticky rice, rotiss...</td>\n",
       "      <td>jasmine rice;bay leaves;sticky rice;rotisserie...</td>\n",
       "    </tr>\n",
       "    <tr>\n",
       "      <th>39755</th>\n",
       "      <td>indian</td>\n",
       "      <td>36337</td>\n",
       "      <td>[mint leaves, cilantro leaves, ghee, tomatoes,...</td>\n",
       "      <td>mint leaves;cilantro leaves;ghee;tomatoes;cinn...</td>\n",
       "    </tr>\n",
       "    <tr>\n",
       "      <th>39756</th>\n",
       "      <td>mexican</td>\n",
       "      <td>15508</td>\n",
       "      <td>[vegetable oil, cinnamon sticks, water, all-pu...</td>\n",
       "      <td>vegetable oil;cinnamon sticks;water;all-purpos...</td>\n",
       "    </tr>\n",
       "    <tr>\n",
       "      <th>39757</th>\n",
       "      <td>greek</td>\n",
       "      <td>34331</td>\n",
       "      <td>[red bell pepper, garlic cloves, extra-virgin ...</td>\n",
       "      <td>red bell pepper;garlic cloves;extra-virgin oli...</td>\n",
       "    </tr>\n",
       "    <tr>\n",
       "      <th>39758</th>\n",
       "      <td>greek</td>\n",
       "      <td>47387</td>\n",
       "      <td>[milk, salt, ground cayenne pepper, ground lam...</td>\n",
       "      <td>milk;salt;ground cayenne pepper;ground lamb;gr...</td>\n",
       "    </tr>\n",
       "    <tr>\n",
       "      <th>39759</th>\n",
       "      <td>korean</td>\n",
       "      <td>12153</td>\n",
       "      <td>[red chili peppers, sea salt, onions, water, c...</td>\n",
       "      <td>red chili peppers;sea salt;onions;water;chilli...</td>\n",
       "    </tr>\n",
       "    <tr>\n",
       "      <th>39760</th>\n",
       "      <td>southern_us</td>\n",
       "      <td>41840</td>\n",
       "      <td>[butter, large eggs, cornmeal, baking powder, ...</td>\n",
       "      <td>butter;large eggs;cornmeal;baking powder;boili...</td>\n",
       "    </tr>\n",
       "    <tr>\n",
       "      <th>39761</th>\n",
       "      <td>chinese</td>\n",
       "      <td>6487</td>\n",
       "      <td>[honey, chicken breast halves, cilantro leaves...</td>\n",
       "      <td>honey;chicken breast halves;cilantro leaves;ca...</td>\n",
       "    </tr>\n",
       "    <tr>\n",
       "      <th>39762</th>\n",
       "      <td>indian</td>\n",
       "      <td>26646</td>\n",
       "      <td>[curry powder, salt, chicken, water, vegetable...</td>\n",
       "      <td>curry powder;salt;chicken;water;vegetable oil;...</td>\n",
       "    </tr>\n",
       "    <tr>\n",
       "      <th>39763</th>\n",
       "      <td>italian</td>\n",
       "      <td>44798</td>\n",
       "      <td>[fettuccine pasta, low-fat cream cheese, garli...</td>\n",
       "      <td>fettuccine pasta;low-fat cream cheese;garlic;n...</td>\n",
       "    </tr>\n",
       "    <tr>\n",
       "      <th>39764</th>\n",
       "      <td>mexican</td>\n",
       "      <td>8089</td>\n",
       "      <td>[chili powder, worcestershire sauce, celery, r...</td>\n",
       "      <td>chili powder;worcestershire sauce;celery;red k...</td>\n",
       "    </tr>\n",
       "    <tr>\n",
       "      <th>39765</th>\n",
       "      <td>indian</td>\n",
       "      <td>6153</td>\n",
       "      <td>[coconut, unsweetened coconut milk, mint leave...</td>\n",
       "      <td>coconut;unsweetened coconut milk;mint leaves;p...</td>\n",
       "    </tr>\n",
       "    <tr>\n",
       "      <th>39766</th>\n",
       "      <td>irish</td>\n",
       "      <td>25557</td>\n",
       "      <td>[rutabaga, ham, thick-cut bacon, potatoes, fre...</td>\n",
       "      <td>rutabaga;ham;thick-cut bacon;potatoes;fresh pa...</td>\n",
       "    </tr>\n",
       "    <tr>\n",
       "      <th>39767</th>\n",
       "      <td>italian</td>\n",
       "      <td>24348</td>\n",
       "      <td>[low-fat sour cream, grated parmesan cheese, s...</td>\n",
       "      <td>low-fat sour cream;grated parmesan cheese;salt...</td>\n",
       "    </tr>\n",
       "    <tr>\n",
       "      <th>39768</th>\n",
       "      <td>mexican</td>\n",
       "      <td>7377</td>\n",
       "      <td>[shredded cheddar cheese, crushed cheese crack...</td>\n",
       "      <td>shredded cheddar cheese;crushed cheese cracker...</td>\n",
       "    </tr>\n",
       "    <tr>\n",
       "      <th>39769</th>\n",
       "      <td>irish</td>\n",
       "      <td>29109</td>\n",
       "      <td>[light brown sugar, granulated sugar, butter, ...</td>\n",
       "      <td>light brown sugar;granulated sugar;butter;warm...</td>\n",
       "    </tr>\n",
       "    <tr>\n",
       "      <th>39770</th>\n",
       "      <td>italian</td>\n",
       "      <td>11462</td>\n",
       "      <td>[KRAFT Zesty Italian Dressing, purple onion, b...</td>\n",
       "      <td>KRAFT Zesty Italian Dressing;purple onion;broc...</td>\n",
       "    </tr>\n",
       "    <tr>\n",
       "      <th>39771</th>\n",
       "      <td>irish</td>\n",
       "      <td>2238</td>\n",
       "      <td>[eggs, citrus fruit, raisins, sourdough starte...</td>\n",
       "      <td>eggs;citrus fruit;raisins;sourdough starter;fl...</td>\n",
       "    </tr>\n",
       "    <tr>\n",
       "      <th>39772</th>\n",
       "      <td>chinese</td>\n",
       "      <td>41882</td>\n",
       "      <td>[boneless chicken skinless thigh, minced garli...</td>\n",
       "      <td>boneless chicken skinless thigh;minced garlic;...</td>\n",
       "    </tr>\n",
       "    <tr>\n",
       "      <th>39773</th>\n",
       "      <td>mexican</td>\n",
       "      <td>2362</td>\n",
       "      <td>[green chile, jalapeno chilies, onions, ground...</td>\n",
       "      <td>green chile;jalapeno chilies;onions;ground bla...</td>\n",
       "    </tr>\n",
       "  </tbody>\n",
       "</table>\n",
       "<p>39774 rows × 4 columns</p>\n",
       "</div>"
      ],
      "text/plain": [
       "            cuisine     id                                        ingredients  \\\n",
       "0             greek  10259  [romaine lettuce, black olives, grape tomatoes...   \n",
       "1       southern_us  25693  [plain flour, ground pepper, salt, tomatoes, g...   \n",
       "2          filipino  20130  [eggs, pepper, salt, mayonaise, cooking oil, g...   \n",
       "3            indian  22213                [water, vegetable oil, wheat, salt]   \n",
       "4            indian  13162  [black pepper, shallots, cornflour, cayenne pe...   \n",
       "5          jamaican   6602  [plain flour, sugar, butter, eggs, fresh ginge...   \n",
       "6           spanish  42779  [olive oil, salt, medium shrimp, pepper, garli...   \n",
       "7           italian   3735  [sugar, pistachio nuts, white almond bark, flo...   \n",
       "8           mexican  16903  [olive oil, purple onion, fresh pineapple, por...   \n",
       "9           italian  12734  [chopped tomatoes, fresh basil, garlic, extra-...   \n",
       "10          italian   5875  [pimentos, sweet pepper, dried oregano, olive ...   \n",
       "11          chinese  45887  [low sodium soy sauce, fresh ginger, dry musta...   \n",
       "12          italian   2698  [Italian parsley leaves, walnuts, hot red pepp...   \n",
       "13          mexican  41995  [ground cinnamon, fresh cilantro, chili powder...   \n",
       "14          italian  31908  [fresh parmesan cheese, butter, all-purpose fl...   \n",
       "15           indian  24717  [tumeric, vegetable stock, tomatoes, garam mas...   \n",
       "16          british  34466  [greek yogurt, lemon curd, confectioners sugar...   \n",
       "17          italian   1420  [italian seasoning, broiler-fryer chicken, may...   \n",
       "18             thai   2941   [sugar, hot chili, asian fish sauce, lime juice]   \n",
       "19       vietnamese   8152  [soy sauce, vegetable oil, red bell pepper, ch...   \n",
       "20             thai  13121  [pork loin, roasted peanuts, chopped cilantro ...   \n",
       "21          mexican  40523  [roma tomatoes, kosher salt, purple onion, jal...   \n",
       "22      southern_us  40989  [low-fat mayonnaise, pepper, salt, baking pota...   \n",
       "23          chinese  29630  [sesame seeds, red pepper, yellow peppers, wat...   \n",
       "24          italian  49136  [marinara sauce, flat leaf parsley, olive oil,...   \n",
       "25          chinese  26705  [sugar, lo mein noodles, salt, chicken broth, ...   \n",
       "26     cajun_creole  27976  [herbs, lemon juice, fresh tomatoes, paprika, ...   \n",
       "27          italian  22087  [ground black pepper, butter, sliced mushrooms...   \n",
       "28          chinese   9197  [green bell pepper, egg roll wrappers, sweet a...   \n",
       "29          mexican   1299  [flour tortillas, cheese, breakfast sausages, ...   \n",
       "...             ...    ...                                                ...   \n",
       "39744         greek   5680  [extra-virgin olive oil, oregano, potatoes, ga...   \n",
       "39745       spanish   5511  [quinoa, extra-virgin olive oil, fresh thyme l...   \n",
       "39746        indian  32051  [clove, bay leaves, ginger, chopped cilantro, ...   \n",
       "39747      moroccan   5119  [water, sugar, grated lemon zest, butter, pitt...   \n",
       "39748       italian   9526  [sea salt, pizza doughs, all-purpose flour, co...   \n",
       "39749       mexican  45599  [kosher salt, minced onion, tortilla chips, su...   \n",
       "39750       mexican  49670  [ground black pepper, chicken breasts, salsa, ...   \n",
       "39751      moroccan  30735  [olive oil, cayenne pepper, chopped cilantro f...   \n",
       "39752   southern_us   5911  [self rising flour, milk, white sugar, butter,...   \n",
       "39753       italian  33294  [rosemary sprigs, lemon zest, garlic cloves, g...   \n",
       "39754    vietnamese  27082  [jasmine rice, bay leaves, sticky rice, rotiss...   \n",
       "39755        indian  36337  [mint leaves, cilantro leaves, ghee, tomatoes,...   \n",
       "39756       mexican  15508  [vegetable oil, cinnamon sticks, water, all-pu...   \n",
       "39757         greek  34331  [red bell pepper, garlic cloves, extra-virgin ...   \n",
       "39758         greek  47387  [milk, salt, ground cayenne pepper, ground lam...   \n",
       "39759        korean  12153  [red chili peppers, sea salt, onions, water, c...   \n",
       "39760   southern_us  41840  [butter, large eggs, cornmeal, baking powder, ...   \n",
       "39761       chinese   6487  [honey, chicken breast halves, cilantro leaves...   \n",
       "39762        indian  26646  [curry powder, salt, chicken, water, vegetable...   \n",
       "39763       italian  44798  [fettuccine pasta, low-fat cream cheese, garli...   \n",
       "39764       mexican   8089  [chili powder, worcestershire sauce, celery, r...   \n",
       "39765        indian   6153  [coconut, unsweetened coconut milk, mint leave...   \n",
       "39766         irish  25557  [rutabaga, ham, thick-cut bacon, potatoes, fre...   \n",
       "39767       italian  24348  [low-fat sour cream, grated parmesan cheese, s...   \n",
       "39768       mexican   7377  [shredded cheddar cheese, crushed cheese crack...   \n",
       "39769         irish  29109  [light brown sugar, granulated sugar, butter, ...   \n",
       "39770       italian  11462  [KRAFT Zesty Italian Dressing, purple onion, b...   \n",
       "39771         irish   2238  [eggs, citrus fruit, raisins, sourdough starte...   \n",
       "39772       chinese  41882  [boneless chicken skinless thigh, minced garli...   \n",
       "39773       mexican   2362  [green chile, jalapeno chilies, onions, ground...   \n",
       "\n",
       "                                         all_ingredients  \n",
       "0      romaine lettuce;black olives;grape tomatoes;ga...  \n",
       "1      plain flour;ground pepper;salt;tomatoes;ground...  \n",
       "2      eggs;pepper;salt;mayonaise;cooking oil;green c...  \n",
       "3                         water;vegetable oil;wheat;salt  \n",
       "4      black pepper;shallots;cornflour;cayenne pepper...  \n",
       "5      plain flour;sugar;butter;eggs;fresh ginger roo...  \n",
       "6      olive oil;salt;medium shrimp;pepper;garlic;cho...  \n",
       "7      sugar;pistachio nuts;white almond bark;flour;v...  \n",
       "8      olive oil;purple onion;fresh pineapple;pork;po...  \n",
       "9      chopped tomatoes;fresh basil;garlic;extra-virg...  \n",
       "10     pimentos;sweet pepper;dried oregano;olive oil;...  \n",
       "11     low sodium soy sauce;fresh ginger;dry mustard;...  \n",
       "12     Italian parsley leaves;walnuts;hot red pepper ...  \n",
       "13     ground cinnamon;fresh cilantro;chili powder;gr...  \n",
       "14     fresh parmesan cheese;butter;all-purpose flour...  \n",
       "15     tumeric;vegetable stock;tomatoes;garam masala;...  \n",
       "16     greek yogurt;lemon curd;confectioners sugar;ra...  \n",
       "17     italian seasoning;broiler-fryer chicken;mayona...  \n",
       "18           sugar;hot chili;asian fish sauce;lime juice  \n",
       "19     soy sauce;vegetable oil;red bell pepper;chicke...  \n",
       "20     pork loin;roasted peanuts;chopped cilantro fre...  \n",
       "21     roma tomatoes;kosher salt;purple onion;jalapen...  \n",
       "22     low-fat mayonnaise;pepper;salt;baking potatoes...  \n",
       "23     sesame seeds;red pepper;yellow peppers;water;e...  \n",
       "24     marinara sauce;flat leaf parsley;olive oil;lin...  \n",
       "25     sugar;lo mein noodles;salt;chicken broth;light...  \n",
       "26     herbs;lemon juice;fresh tomatoes;paprika;mango...  \n",
       "27     ground black pepper;butter;sliced mushrooms;sh...  \n",
       "28     green bell pepper;egg roll wrappers;sweet and ...  \n",
       "29     flour tortillas;cheese;breakfast sausages;larg...  \n",
       "...                                                  ...  \n",
       "39744  extra-virgin olive oil;oregano;potatoes;garlic...  \n",
       "39745  quinoa;extra-virgin olive oil;fresh thyme leav...  \n",
       "39746  clove;bay leaves;ginger;chopped cilantro;groun...  \n",
       "39747  water;sugar;grated lemon zest;butter;pitted da...  \n",
       "39748  sea salt;pizza doughs;all-purpose flour;cornme...  \n",
       "39749  kosher salt;minced onion;tortilla chips;sugar;...  \n",
       "39750  ground black pepper;chicken breasts;salsa;ched...  \n",
       "39751  olive oil;cayenne pepper;chopped cilantro fres...  \n",
       "39752  self rising flour;milk;white sugar;butter;peac...  \n",
       "39753  rosemary sprigs;lemon zest;garlic cloves;groun...  \n",
       "39754  jasmine rice;bay leaves;sticky rice;rotisserie...  \n",
       "39755  mint leaves;cilantro leaves;ghee;tomatoes;cinn...  \n",
       "39756  vegetable oil;cinnamon sticks;water;all-purpos...  \n",
       "39757  red bell pepper;garlic cloves;extra-virgin oli...  \n",
       "39758  milk;salt;ground cayenne pepper;ground lamb;gr...  \n",
       "39759  red chili peppers;sea salt;onions;water;chilli...  \n",
       "39760  butter;large eggs;cornmeal;baking powder;boili...  \n",
       "39761  honey;chicken breast halves;cilantro leaves;ca...  \n",
       "39762  curry powder;salt;chicken;water;vegetable oil;...  \n",
       "39763  fettuccine pasta;low-fat cream cheese;garlic;n...  \n",
       "39764  chili powder;worcestershire sauce;celery;red k...  \n",
       "39765  coconut;unsweetened coconut milk;mint leaves;p...  \n",
       "39766  rutabaga;ham;thick-cut bacon;potatoes;fresh pa...  \n",
       "39767  low-fat sour cream;grated parmesan cheese;salt...  \n",
       "39768  shredded cheddar cheese;crushed cheese cracker...  \n",
       "39769  light brown sugar;granulated sugar;butter;warm...  \n",
       "39770  KRAFT Zesty Italian Dressing;purple onion;broc...  \n",
       "39771  eggs;citrus fruit;raisins;sourdough starter;fl...  \n",
       "39772  boneless chicken skinless thigh;minced garlic;...  \n",
       "39773  green chile;jalapeno chilies;onions;ground bla...  \n",
       "\n",
       "[39774 rows x 4 columns]"
      ]
     },
     "execution_count": 29,
     "metadata": {},
     "output_type": "execute_result"
    }
   ],
   "source": [
    "df_train"
   ]
  },
  {
   "cell_type": "code",
   "execution_count": 127,
   "metadata": {},
   "outputs": [
    {
     "data": {
      "text/plain": [
       "(39774, 3010)"
      ]
     },
     "execution_count": 127,
     "metadata": {},
     "output_type": "execute_result"
    }
   ],
   "source": [
    "X.shape"
   ]
  },
  {
   "cell_type": "code",
   "execution_count": 128,
   "metadata": {},
   "outputs": [
    {
     "name": "stdout",
     "output_type": "stream",
     "text": [
      "['romaine', 'lettuce', 'black', 'olives', 'grape', 'tomatoes', 'garlic', 'pepper', 'purple', 'onion', 'seasoning', 'garbanzo', 'beans', 'feta', 'cheese', 'crumbles', 'plain', 'flour', 'ground', 'salt', 'thyme', 'eggs', 'green', 'yellow', 'corn', 'meal', 'milk', 'vegetable', 'oil', 'mayonaise', 'cooking', 'chilies', 'grilled', 'chicken', 'breasts', 'powder', 'soy', 'sauce', 'butter', 'livers', 'water', 'wheat', 'shallots', 'cornflour', 'cayenne', 'onions', 'paste', 'lemon', 'juice', 'chili', 'passata', 'cumin', 'boneless', 'skinless', 'thigh', 'garam', 'masala', 'double', 'cream', 'natural', 'yogurt', 'bay', 'leaf', 'sugar', 'fresh', 'ginger', 'root', 'cinnamon', 'vanilla', 'extract', 'powdered', 'baking', 'olive', 'medium', 'shrimp', 'chopped', 'cilantro', 'jalapeno', 'flat', 'parsley', 'skirt', 'steak', 'white', 'vinegar', 'sea', 'chorizo', 'sausage', 'pistachio', 'nuts', 'almond', 'bark', 'dried', 'cranberries', 'pineapple', 'pork', 'poblano', 'peppers', 'tortillas', 'cheddar', 'iceberg']\n"
     ]
    }
   ],
   "source": [
    "print(list(cv.vocabulary_.keys())[:100])"
   ]
  },
  {
   "cell_type": "code",
   "execution_count": 30,
   "metadata": {
    "collapsed": true
   },
   "outputs": [],
   "source": [
    "from sklearn.preprocessing import LabelEncoder"
   ]
  },
  {
   "cell_type": "code",
   "execution_count": 31,
   "metadata": {
    "collapsed": true
   },
   "outputs": [],
   "source": [
    "enc = LabelEncoder()\n",
    "y = enc.fit_transform(df_train.cuisine)"
   ]
  },
  {
   "cell_type": "code",
   "execution_count": 32,
   "metadata": {},
   "outputs": [
    {
     "data": {
      "text/plain": [
       "array([ 6, 16,  4,  7,  7, 10, 17,  9, 13,  9,  9,  3,  9, 13,  9,  7,  1,\n",
       "        9, 18, 19, 18, 13, 16,  3,  9,  3,  2,  9,  3, 13,  9,  2, 13, 18,\n",
       "        9,  2,  9,  4, 16, 16,  9,  0, 13,  7, 13,  3,  5, 16, 16, 16, 11,\n",
       "       16,  9, 16,  9, 10, 11,  7,  9,  8, 18, 18,  7, 10,  9, 18, 12,  5,\n",
       "        5, 16, 17,  7, 14,  9,  9, 14, 14, 19, 11, 13,  2, 16,  5,  7,  7,\n",
       "        9,  9,  7, 12, 17,  9, 16, 16,  6, 13, 13, 16,  7,  9,  9])"
      ]
     },
     "execution_count": 32,
     "metadata": {},
     "output_type": "execute_result"
    }
   ],
   "source": [
    "y[:100]"
   ]
  },
  {
   "cell_type": "code",
   "execution_count": 33,
   "metadata": {},
   "outputs": [
    {
     "data": {
      "text/plain": [
       "array(['brazilian', 'british', 'cajun_creole', 'chinese', 'filipino',\n",
       "       'french', 'greek', 'indian', 'irish', 'italian', 'jamaican',\n",
       "       'japanese', 'korean', 'mexican', 'moroccan', 'russian',\n",
       "       'southern_us', 'spanish', 'thai', 'vietnamese'], dtype=object)"
      ]
     },
     "execution_count": 33,
     "metadata": {},
     "output_type": "execute_result"
    }
   ],
   "source": [
    "enc.classes_"
   ]
  },
  {
   "cell_type": "code",
   "execution_count": 34,
   "metadata": {},
   "outputs": [
    {
     "name": "stderr",
     "output_type": "stream",
     "text": [
      "/Users/marinaermolova/anaconda3/lib/python3.6/site-packages/sklearn/cross_validation.py:41: DeprecationWarning: This module was deprecated in version 0.18 in favor of the model_selection module into which all the refactored classes and functions are moved. Also note that the interface of the new CV iterators are different from that of this module. This module will be removed in 0.20.\n",
      "  \"This module will be removed in 0.20.\", DeprecationWarning)\n"
     ]
    }
   ],
   "source": [
    "from sklearn.cross_validation import train_test_split"
   ]
  },
  {
   "cell_type": "code",
   "execution_count": 35,
   "metadata": {
    "collapsed": true
   },
   "outputs": [],
   "source": [
    "from sklearn.linear_model import LogisticRegression"
   ]
  },
  {
   "cell_type": "code",
   "execution_count": 123,
   "metadata": {
    "collapsed": true
   },
   "outputs": [],
   "source": [
    "from sklearn.cross_validation import StratifiedKFold\n",
    "cv = StratifiedKFold(y, n_folds=3, shuffle=True, random_state=1)"
   ]
  },
  {
   "cell_type": "code",
   "execution_count": 40,
   "metadata": {
    "collapsed": true
   },
   "outputs": [],
   "source": [
    "X_train, X_test, y_train, y_test = train_test_split(X, y, test_size=0.2)"
   ]
  },
  {
   "cell_type": "code",
   "execution_count": 38,
   "metadata": {},
   "outputs": [
    {
     "data": {
      "text/plain": [
       "array([13,  2,  4, ..., 13,  7, 13])"
      ]
     },
     "execution_count": 38,
     "metadata": {},
     "output_type": "execute_result"
    }
   ],
   "source": []
  },
  {
   "cell_type": "code",
   "execution_count": 56,
   "metadata": {},
   "outputs": [
    {
     "data": {
      "text/plain": [
       "LogisticRegression(C=1.0, class_weight=None, dual=False, fit_intercept=True,\n",
       "          intercept_scaling=1, max_iter=100, multi_class='ovr', n_jobs=1,\n",
       "          penalty='l2', random_state=None, solver='liblinear', tol=0.0001,\n",
       "          verbose=0, warm_start=False)"
      ]
     },
     "execution_count": 56,
     "metadata": {},
     "output_type": "execute_result"
    }
   ],
   "source": [
    "logistic = LogisticRegression()\n",
    "logistic.fit(X_train, y_train)"
   ]
  },
  {
   "cell_type": "code",
   "execution_count": 57,
   "metadata": {
    "scrolled": true
   },
   "outputs": [
    {
     "data": {
      "text/plain": [
       "0.78214959145191698"
      ]
     },
     "execution_count": 57,
     "metadata": {},
     "output_type": "execute_result"
    }
   ],
   "source": [
    "logistic.score(X_test, y_test)"
   ]
  },
  {
   "cell_type": "code",
   "execution_count": 43,
   "metadata": {},
   "outputs": [
    {
     "data": {
      "text/plain": [
       "0.69648525502552661"
      ]
     },
     "execution_count": 43,
     "metadata": {},
     "output_type": "execute_result"
    }
   ],
   "source": [
    "from sklearn.ensemble import RandomForestClassifier\n",
    "from sklearn import datasets, svm, cross_validation\n",
    "alg_frst = RandomForestClassifier(random_state=1)\n",
    "scores = cross_validation.cross_val_score(alg_frst, X, y, cv=cv)\n",
    "scores.mean()"
   ]
  },
  {
   "cell_type": "code",
   "execution_count": 44,
   "metadata": {},
   "outputs": [
    {
     "data": {
      "text/plain": [
       "0.78347651679853048"
      ]
     },
     "execution_count": 44,
     "metadata": {},
     "output_type": "execute_result"
    }
   ],
   "source": [
    "logistic = LogisticRegression(random_state=42)\n",
    "scores = cross_validation.cross_val_score(logistic, X, y, cv=cv)\n",
    "scores.mean()"
   ]
  },
  {
   "cell_type": "code",
   "execution_count": 45,
   "metadata": {},
   "outputs": [
    {
     "data": {
      "text/plain": [
       "0.60398633533641966"
      ]
     },
     "execution_count": 45,
     "metadata": {},
     "output_type": "execute_result"
    }
   ],
   "source": [
    "from sklearn.neighbors import KNeighborsClassifier\n",
    "alg_ngbh = KNeighborsClassifier(n_neighbors=3)\n",
    "scores = cross_validation.cross_val_score(alg_ngbh, X, y, cv=cv, n_jobs=-1)\n",
    "\n",
    "scores.mean()"
   ]
  },
  {
   "cell_type": "code",
   "execution_count": 49,
   "metadata": {},
   "outputs": [
    {
     "name": "stdout",
     "output_type": "stream",
     "text": [
      "{'C': 1, 'penalty': 'l2'}\n",
      "0.785890280082466\n"
     ]
    }
   ],
   "source": [
    "from sklearn.grid_search import GridSearchCV\n",
    "lr = LogisticRegression(random_state=42)\n",
    "grid = {'penalty': ['l1', 'l2'], 'C': [0.001, 0.01, 0.1, 1, 2, 3, 5, 10]}\n",
    "clf = GridSearchCV(lr, param_grid = grid, scoring = 'accuracy', cv = 5)\n",
    "clf.fit(X, y)\n",
    "print(clf.best_params_)\n",
    "print(clf.best_score_)"
   ]
  },
  {
   "cell_type": "code",
   "execution_count": 58,
   "metadata": {},
   "outputs": [
    {
     "data": {
      "text/plain": [
       "Text(0.5,64.6,'Predicted label')"
      ]
     },
     "execution_count": 58,
     "metadata": {},
     "output_type": "execute_result"
    },
    {
     "data": {
      "image/png": "[encoded data removed]",
      "text/plain": [
       "<matplotlib.figure.Figure at 0x113cd3198>"
      ]
     },
     "metadata": {},
     "output_type": "display_data"
    }
   ],
   "source": [
    "from sklearn.metrics import confusion_matrix\n",
    "\n",
    "plt.figure(figsize=(10, 10))\n",
    "\n",
    "cm = confusion_matrix(y_test, logistic.predict(X_test))\n",
    "cm_normalized = cm.astype('float') / cm.sum(axis=1)[:, np.newaxis]\n",
    "\n",
    "plt.imshow(cm_normalized, interpolation='nearest')\n",
    "plt.title(\"confusion matrix\")\n",
    "plt.colorbar(shrink=0.3)\n",
    "cuisines = df_train['cuisine'].value_counts().index\n",
    "tick_marks = np.arange(len(cuisines))\n",
    "plt.xticks(tick_marks, cuisines, rotation=90)\n",
    "plt.yticks(tick_marks, cuisines)\n",
    "plt.tight_layout()\n",
    "plt.ylabel('True label')\n",
    "plt.xlabel('Predicted label')"
   ]
  },
  {
   "cell_type": "code",
   "execution_count": 59,
   "metadata": {
    "collapsed": true
   },
   "outputs": [],
   "source": [
    "from sklearn.metrics import classification_report"
   ]
  },
  {
   "cell_type": "code",
   "execution_count": 60,
   "metadata": {},
   "outputs": [
    {
     "name": "stdout",
     "output_type": "stream",
     "text": [
      "              precision    recall  f1-score   support\n",
      "\n",
      "     italian       0.67      0.49      0.57        96\n",
      "     mexican       0.60      0.44      0.51       157\n",
      " southern_us       0.78      0.69      0.73       310\n",
      "      indian       0.78      0.89      0.83       535\n",
      "     chinese       0.75      0.60      0.66       172\n",
      "      french       0.62      0.67      0.64       521\n",
      "cajun_creole       0.82      0.73      0.77       233\n",
      "        thai       0.86      0.90      0.88       584\n",
      "    japanese       0.65      0.54      0.59       147\n",
      "       greek       0.81      0.90      0.85      1568\n",
      "     spanish       0.77      0.71      0.74        99\n",
      "      korean       0.82      0.66      0.73       282\n",
      "  vietnamese       0.81      0.78      0.79       152\n",
      "    moroccan       0.89      0.92      0.90      1246\n",
      "     british       0.82      0.68      0.74       186\n",
      "    filipino       0.60      0.38      0.47       100\n",
      "       irish       0.70      0.78      0.74       871\n",
      "    jamaican       0.68      0.49      0.57       225\n",
      "     russian       0.78      0.74      0.76       293\n",
      "   brazilian       0.78      0.53      0.63       178\n",
      "\n",
      " avg / total       0.78      0.78      0.78      7955\n",
      "\n"
     ]
    }
   ],
   "source": [
    "y_pred = logistic.predict(X_test)\n",
    "print(classification_report(y_test, y_pred, target_names=cuisines))"
   ]
  },
  {
   "cell_type": "code",
   "execution_count": 61,
   "metadata": {
    "collapsed": true
   },
   "outputs": [],
   "source": [
    "import codecs\n",
    "df_train = pd.read_json(codecs.open('train.json', 'r', 'utf-8'))"
   ]
  },
  {
   "cell_type": "code",
   "execution_count": 62,
   "metadata": {},
   "outputs": [
    {
     "data": {
      "text/html": [
       "<div>\n",
       "<style>\n",
       "    .dataframe thead tr:only-child th {\n",
       "        text-align: right;\n",
       "    }\n",
       "\n",
       "    .dataframe thead th {\n",
       "        text-align: left;\n",
       "    }\n",
       "\n",
       "    .dataframe tbody tr th {\n",
       "        vertical-align: top;\n",
       "    }\n",
       "</style>\n",
       "<table border=\"1\" class=\"dataframe\">\n",
       "  <thead>\n",
       "    <tr style=\"text-align: right;\">\n",
       "      <th></th>\n",
       "      <th>cuisine</th>\n",
       "      <th>id</th>\n",
       "      <th>ingredients</th>\n",
       "    </tr>\n",
       "  </thead>\n",
       "  <tbody>\n",
       "    <tr>\n",
       "      <th>0</th>\n",
       "      <td>greek</td>\n",
       "      <td>10259</td>\n",
       "      <td>[romaine lettuce, black olives, grape tomatoes...</td>\n",
       "    </tr>\n",
       "    <tr>\n",
       "      <th>1</th>\n",
       "      <td>southern_us</td>\n",
       "      <td>25693</td>\n",
       "      <td>[plain flour, ground pepper, salt, tomatoes, g...</td>\n",
       "    </tr>\n",
       "    <tr>\n",
       "      <th>2</th>\n",
       "      <td>filipino</td>\n",
       "      <td>20130</td>\n",
       "      <td>[eggs, pepper, salt, mayonaise, cooking oil, g...</td>\n",
       "    </tr>\n",
       "    <tr>\n",
       "      <th>3</th>\n",
       "      <td>indian</td>\n",
       "      <td>22213</td>\n",
       "      <td>[water, vegetable oil, wheat, salt]</td>\n",
       "    </tr>\n",
       "    <tr>\n",
       "      <th>4</th>\n",
       "      <td>indian</td>\n",
       "      <td>13162</td>\n",
       "      <td>[black pepper, shallots, cornflour, cayenne pe...</td>\n",
       "    </tr>\n",
       "  </tbody>\n",
       "</table>\n",
       "</div>"
      ],
      "text/plain": [
       "       cuisine     id                                        ingredients\n",
       "0        greek  10259  [romaine lettuce, black olives, grape tomatoes...\n",
       "1  southern_us  25693  [plain flour, ground pepper, salt, tomatoes, g...\n",
       "2     filipino  20130  [eggs, pepper, salt, mayonaise, cooking oil, g...\n",
       "3       indian  22213                [water, vegetable oil, wheat, salt]\n",
       "4       indian  13162  [black pepper, shallots, cornflour, cayenne pe..."
      ]
     },
     "execution_count": 62,
     "metadata": {},
     "output_type": "execute_result"
    }
   ],
   "source": [
    "df_train.head()"
   ]
  },
  {
   "cell_type": "code",
   "execution_count": 63,
   "metadata": {
    "collapsed": true
   },
   "outputs": [],
   "source": [
    "all_ingredients_text = []\n",
    "for ingredient_list in df_train.ingredients:\n",
    "    all_ingredients_text += [ing.lower() for ing in ingredient_list]"
   ]
  },
  {
   "cell_type": "code",
   "execution_count": 64,
   "metadata": {},
   "outputs": [
    {
     "data": {
      "text/plain": [
       "428275"
      ]
     },
     "execution_count": 64,
     "metadata": {},
     "output_type": "execute_result"
    }
   ],
   "source": [
    "len(all_ingredients_text)"
   ]
  },
  {
   "cell_type": "code",
   "execution_count": 65,
   "metadata": {},
   "outputs": [
    {
     "data": {
      "text/plain": [
       "6703"
      ]
     },
     "execution_count": 65,
     "metadata": {},
     "output_type": "execute_result"
    }
   ],
   "source": [
    "len(set(all_ingredients_text))"
   ]
  },
  {
   "cell_type": "code",
   "execution_count": 66,
   "metadata": {},
   "outputs": [
    {
     "data": {
      "text/plain": [
       "['KRAFT',\n",
       " 'Shredded',\n",
       " 'Pepper',\n",
       " 'Jack',\n",
       " 'Cheese',\n",
       " 'with',\n",
       " 'a',\n",
       " 'TOUCH',\n",
       " 'OF',\n",
       " 'PHILADELPHIA']"
      ]
     },
     "execution_count": 66,
     "metadata": {},
     "output_type": "execute_result"
    }
   ],
   "source": [
    "import re\n",
    "re.split(re.compile('[,. ]+'), 'KRAFT Shredded Pepper Jack Cheese with a TOUCH OF PHILADELPHIA')\n"
   ]
  },
  {
   "cell_type": "code",
   "execution_count": 67,
   "metadata": {
    "collapsed": true
   },
   "outputs": [],
   "source": [
    "splitter = re.compile('[,. ]+')\n",
    "all_words = []\n",
    "for ingredient in all_ingredients_text:\n",
    "    all_words += re.split(splitter, ingredient)"
   ]
  },
  {
   "cell_type": "code",
   "execution_count": 68,
   "metadata": {},
   "outputs": [
    {
     "data": {
      "text/plain": [
       "807802"
      ]
     },
     "execution_count": 68,
     "metadata": {},
     "output_type": "execute_result"
    }
   ],
   "source": [
    "len(all_words)"
   ]
  },
  {
   "cell_type": "code",
   "execution_count": 69,
   "metadata": {},
   "outputs": [
    {
     "data": {
      "text/plain": [
       "3152"
      ]
     },
     "execution_count": 69,
     "metadata": {},
     "output_type": "execute_result"
    }
   ],
   "source": [
    "len(set(all_words))"
   ]
  },
  {
   "cell_type": "code",
   "execution_count": 70,
   "metadata": {},
   "outputs": [
    {
     "data": {
      "text/plain": [
       "['pillsbury™ crescent recipe creations® refrigerated seamless dough sheet',\n",
       " 'kraft mexican style shredded four cheese with a touch of philadelphia',\n",
       " 'bertolli vineyard premium collect marinara with burgundi wine sauc',\n",
       " 'hidden valley® farmhouse originals italian with herbs dressing',\n",
       " 'kraft shredded pepper jack cheese with a touch of philadelphia',\n",
       " 'hidden valley® original ranch salad® dressing & seasoning mix',\n",
       " 'condensed reduced fat reduced sodium cream of mushroom soup',\n",
       " 'hellmannâ€™ or best food canola cholesterol free mayonnais',\n",
       " 'condensed reduced fat reduced sodium cream of chicken soup',\n",
       " \"i can't believ it' not butter! made with olive oil spread\",\n",
       " '(10 oz.) frozen chopped spinach, thawed and squeezed dry',\n",
       " 'wish-bone light asian sesame ginger vinaigrette dressing',\n",
       " 'kraft shredded low-moisture part-skim mozzarella cheese',\n",
       " 'kraft mexican style 2% milk finely shredded four cheese',\n",
       " 'hurst family harvest chipotle lime black bean soup mix',\n",
       " 'reduced fat reduced sodium tomato and herb pasta sauce',\n",
       " 'crystal farms reduced fat shredded marble jack cheese',\n",
       " 'frozen orange juice concentrate, thawed and undiluted',\n",
       " \"i can't believe it's not butter!® all purpose sticks\",\n",
       " 'sargento® traditional cut shredded mozzarella cheese',\n",
       " 'lipton sparkling diet green tea with strawberry kiwi',\n",
       " 'hidden valley® greek yogurt original ranch® dip mix',\n",
       " 'hidden valley® original ranch® spicy ranch dressing',\n",
       " 'conimex woksaus specials vietnamese gember knoflook',\n",
       " 'sargento® traditional cut shredded 4 cheese mexican',\n",
       " 'honeysuckle white® hot italian turkey sausage links',\n",
       " 'ragu old world style sweet tomato basil pasta sauc',\n",
       " 'sargento® artisan blends® shredded parmesan cheese',\n",
       " 'reduced sodium reduced fat cream of mushroom soup',\n",
       " 'reduced fat reduced sodium cream of mushroom soup',\n",
       " 'frozen lemonade concentrate, thawed and undiluted',\n",
       " 'shredded reduced fat reduced sodium swiss cheese',\n",
       " 'condensed reduced fat reduced sodium tomato soup',\n",
       " 'frozen chopped spinach, thawed and squeezed dry',\n",
       " 'knorr reduc sodium chicken flavor bouillon cube',\n",
       " '2 1/2 to 3 lb. chicken, cut into serving pieces',\n",
       " 'kraft mexican style finely shredded four cheese',\n",
       " \"frank's® redhot® original cayenne pepper sauce\",\n",
       " 'foster farms boneless skinless chicken breasts',\n",
       " 'reduced sodium condensed cream of chicken soup',\n",
       " 'knorr tomato bouillon with chicken flavor cube',\n",
       " 'pompeian canola oil and extra virgin olive oil',\n",
       " 'hidden valley® original ranch® light dressing',\n",
       " 'pillsbury™ refrigerated crescent dinner rolls',\n",
       " 'taco bell® home originals® taco seasoning mix',\n",
       " 'soy vay® veri veri teriyaki® marinade & sauce',\n",
       " \"uncle ben's ready rice whole grain brown rice\",\n",
       " 'reduced sodium italian style stewed tomatoes',\n",
       " 'kraft reduced fat shredded mozzarella cheese',\n",
       " 'skinless and boneless chicken breast fillet']"
      ]
     },
     "execution_count": 70,
     "metadata": {},
     "output_type": "execute_result"
    }
   ],
   "source": [
    "sorted(set(all_ingredients_text), key=len, reverse=True)[:50]"
   ]
  },
  {
   "cell_type": "code",
   "execution_count": 71,
   "metadata": {
    "collapsed": true
   },
   "outputs": [],
   "source": [
    "import re\n",
    "\n",
    "def to_ingredient(text):\n",
    "    \"Transforms text into an ingredient.\"\n",
    "    return frozenset(re.split(re.compile('[,. ]+'), text))"
   ]
  },
  {
   "cell_type": "code",
   "execution_count": 72,
   "metadata": {
    "collapsed": true
   },
   "outputs": [],
   "source": [
    "all_ingredients = [to_ingredient(text) for text in all_ingredients_text]"
   ]
  },
  {
   "cell_type": "code",
   "execution_count": 73,
   "metadata": {},
   "outputs": [
    {
     "data": {
      "text/plain": [
       "[frozenset({'lettuce', 'romaine'}),\n",
       " frozenset({'black', 'olives'}),\n",
       " frozenset({'grape', 'tomatoes'}),\n",
       " frozenset({'garlic'}),\n",
       " frozenset({'pepper'}),\n",
       " frozenset({'onion', 'purple'}),\n",
       " frozenset({'seasoning'}),\n",
       " frozenset({'beans', 'garbanzo'}),\n",
       " frozenset({'cheese', 'crumbles', 'feta'}),\n",
       " frozenset({'flour', 'plain'})]"
      ]
     },
     "execution_count": 73,
     "metadata": {},
     "output_type": "execute_result"
    }
   ],
   "source": [
    "all_ingredients[:10]"
   ]
  },
  {
   "cell_type": "code",
   "execution_count": 74,
   "metadata": {
    "collapsed": true
   },
   "outputs": [],
   "source": [
    "import itertools\n",
    "\n",
    "def candidates(ingredient):\n",
    "    \"Returns a list of candidate ingredients obtained from the original ingredient by keeping at least one of them.\"\n",
    "    n = len(ingredient)\n",
    "    possible = []\n",
    "    for i in range(1, n + 1):\n",
    "        possible += [frozenset(combi) for combi in itertools.combinations(ingredient, i)]\n",
    "    return possible"
   ]
  },
  {
   "cell_type": "code",
   "execution_count": 75,
   "metadata": {},
   "outputs": [
    {
     "data": {
      "text/plain": [
       "[frozenset({'herb'}),\n",
       " frozenset({'sauce'}),\n",
       " frozenset({'pasta'}),\n",
       " frozenset({'tomato'}),\n",
       " frozenset({'and'}),\n",
       " frozenset({'herb', 'sauce'}),\n",
       " frozenset({'herb', 'pasta'}),\n",
       " frozenset({'herb', 'tomato'}),\n",
       " frozenset({'and', 'herb'}),\n",
       " frozenset({'pasta', 'sauce'}),\n",
       " frozenset({'sauce', 'tomato'}),\n",
       " frozenset({'and', 'sauce'}),\n",
       " frozenset({'pasta', 'tomato'}),\n",
       " frozenset({'and', 'pasta'}),\n",
       " frozenset({'and', 'tomato'}),\n",
       " frozenset({'herb', 'pasta', 'sauce'}),\n",
       " frozenset({'herb', 'sauce', 'tomato'}),\n",
       " frozenset({'and', 'herb', 'sauce'}),\n",
       " frozenset({'herb', 'pasta', 'tomato'}),\n",
       " frozenset({'and', 'herb', 'pasta'}),\n",
       " frozenset({'and', 'herb', 'tomato'}),\n",
       " frozenset({'pasta', 'sauce', 'tomato'}),\n",
       " frozenset({'and', 'pasta', 'sauce'}),\n",
       " frozenset({'and', 'sauce', 'tomato'}),\n",
       " frozenset({'and', 'pasta', 'tomato'}),\n",
       " frozenset({'herb', 'pasta', 'sauce', 'tomato'}),\n",
       " frozenset({'and', 'herb', 'pasta', 'sauce'}),\n",
       " frozenset({'and', 'herb', 'sauce', 'tomato'}),\n",
       " frozenset({'and', 'herb', 'pasta', 'tomato'}),\n",
       " frozenset({'and', 'pasta', 'sauce', 'tomato'}),\n",
       " frozenset({'and', 'herb', 'pasta', 'sauce', 'tomato'})]"
      ]
     },
     "execution_count": 75,
     "metadata": {},
     "output_type": "execute_result"
    }
   ],
   "source": [
    "candidates(to_ingredient(\"tomato and herb pasta sauce\"))"
   ]
  },
  {
   "cell_type": "code",
   "execution_count": 76,
   "metadata": {},
   "outputs": [
    {
     "data": {
      "text/plain": [
       "[frozenset({'knorr'}),\n",
       " frozenset({'flavor'}),\n",
       " frozenset({'chicken'}),\n",
       " frozenset({'cube'}),\n",
       " frozenset({'bouillon'}),\n",
       " frozenset({'flavor', 'knorr'}),\n",
       " frozenset({'chicken', 'knorr'}),\n",
       " frozenset({'cube', 'knorr'}),\n",
       " frozenset({'bouillon', 'knorr'}),\n",
       " frozenset({'chicken', 'flavor'}),\n",
       " frozenset({'cube', 'flavor'}),\n",
       " frozenset({'bouillon', 'flavor'}),\n",
       " frozenset({'chicken', 'cube'}),\n",
       " frozenset({'bouillon', 'chicken'}),\n",
       " frozenset({'bouillon', 'cube'}),\n",
       " frozenset({'chicken', 'flavor', 'knorr'}),\n",
       " frozenset({'cube', 'flavor', 'knorr'}),\n",
       " frozenset({'bouillon', 'flavor', 'knorr'}),\n",
       " frozenset({'chicken', 'cube', 'knorr'}),\n",
       " frozenset({'bouillon', 'chicken', 'knorr'}),\n",
       " frozenset({'bouillon', 'cube', 'knorr'}),\n",
       " frozenset({'chicken', 'cube', 'flavor'}),\n",
       " frozenset({'bouillon', 'chicken', 'flavor'}),\n",
       " frozenset({'bouillon', 'cube', 'flavor'}),\n",
       " frozenset({'bouillon', 'chicken', 'cube'}),\n",
       " frozenset({'chicken', 'cube', 'flavor', 'knorr'}),\n",
       " frozenset({'bouillon', 'chicken', 'flavor', 'knorr'}),\n",
       " frozenset({'bouillon', 'cube', 'flavor', 'knorr'}),\n",
       " frozenset({'bouillon', 'chicken', 'cube', 'knorr'}),\n",
       " frozenset({'bouillon', 'chicken', 'cube', 'flavor'}),\n",
       " frozenset({'bouillon', 'chicken', 'cube', 'flavor', 'knorr'})]"
      ]
     },
     "execution_count": 76,
     "metadata": {},
     "output_type": "execute_result"
    }
   ],
   "source": [
    "candidates(to_ingredient('knorr chicken flavor bouillon cube'))"
   ]
  },
  {
   "cell_type": "code",
   "execution_count": 77,
   "metadata": {},
   "outputs": [
    {
     "data": {
      "text/plain": [
       "[(frozenset({'salt'}), 18049),\n",
       " (frozenset({'onions'}), 7972),\n",
       " (frozenset({'oil', 'olive'}), 7972),\n",
       " (frozenset({'water'}), 7457),\n",
       " (frozenset({'garlic'}), 7380),\n",
       " (frozenset({'sugar'}), 6434),\n",
       " (frozenset({'cloves', 'garlic'}), 6237),\n",
       " (frozenset({'butter'}), 4848),\n",
       " (frozenset({'black', 'ground', 'pepper'}), 4785),\n",
       " (frozenset({'all-purpose', 'flour'}), 4632),\n",
       " (frozenset({'pepper'}), 4438),\n",
       " (frozenset({'oil', 'vegetable'}), 4385),\n",
       " (frozenset({'eggs'}), 3388),\n",
       " (frozenset({'sauce', 'soy'}), 3296),\n",
       " (frozenset({'kosher', 'salt'}), 3113),\n",
       " (frozenset({'green', 'onions'}), 3078),\n",
       " (frozenset({'tomatoes'}), 3058),\n",
       " (frozenset({'eggs', 'large'}), 2948),\n",
       " (frozenset({'carrots'}), 2814),\n",
       " (frozenset({'butter', 'unsalted'}), 2782)]"
      ]
     },
     "execution_count": 77,
     "metadata": {},
     "output_type": "execute_result"
    }
   ],
   "source": [
    "from collections import Counter\n",
    "\n",
    "c = Counter(all_ingredients)\n",
    "\n",
    "c.most_common(20)"
   ]
  },
  {
   "cell_type": "code",
   "execution_count": 78,
   "metadata": {
    "collapsed": true
   },
   "outputs": [],
   "source": [
    "from collections import defaultdict\n",
    "probability = defaultdict(lambda: 1, c.most_common())"
   ]
  },
  {
   "cell_type": "code",
   "execution_count": 79,
   "metadata": {},
   "outputs": [
    {
     "data": {
      "text/plain": [
       "1"
      ]
     },
     "execution_count": 79,
     "metadata": {},
     "output_type": "execute_result"
    }
   ],
   "source": [
    "probability[to_ingredient('pasta and herb')]"
   ]
  },
  {
   "cell_type": "code",
   "execution_count": 80,
   "metadata": {},
   "outputs": [
    {
     "data": {
      "text/plain": [
       "867"
      ]
     },
     "execution_count": 80,
     "metadata": {},
     "output_type": "execute_result"
    }
   ],
   "source": [
    "probability[to_ingredient('tomato sauce')]"
   ]
  },
  {
   "cell_type": "code",
   "execution_count": 81,
   "metadata": {
    "collapsed": true
   },
   "outputs": [],
   "source": [
    "def best_replacement(ingredient):\n",
    "    \"Computes best replacement ingredient for a given input.\"\n",
    "    return max(candidates(ingredient), key=lambda c: probability[c])"
   ]
  },
  {
   "cell_type": "code",
   "execution_count": 82,
   "metadata": {},
   "outputs": [
    {
     "data": {
      "text/plain": [
       "frozenset({'sauce', 'tomato'})"
      ]
     },
     "execution_count": 82,
     "metadata": {},
     "output_type": "execute_result"
    }
   ],
   "source": [
    "best_replacement(to_ingredient(\"tomato sauce\"))"
   ]
  },
  {
   "cell_type": "code",
   "execution_count": 83,
   "metadata": {},
   "outputs": [
    {
     "data": {
      "text/plain": [
       "frozenset({'pasta'})"
      ]
     },
     "execution_count": 83,
     "metadata": {},
     "output_type": "execute_result"
    }
   ],
   "source": [
    "best_replacement(to_ingredient(\"pasta and herb\"))"
   ]
  },
  {
   "cell_type": "code",
   "execution_count": 84,
   "metadata": {},
   "outputs": [
    {
     "data": {
      "text/plain": [
       "frozenset({'cheese'})"
      ]
     },
     "execution_count": 84,
     "metadata": {},
     "output_type": "execute_result"
    }
   ],
   "source": [
    "best_replacement(to_ingredient(\"kraft mexican style shredded four cheese with a touch of philadelphia\"))\n"
   ]
  },
  {
   "cell_type": "code",
   "execution_count": 85,
   "metadata": {},
   "outputs": [
    {
     "data": {
      "text/html": [
       "<div>\n",
       "<style>\n",
       "    .dataframe thead tr:only-child th {\n",
       "        text-align: right;\n",
       "    }\n",
       "\n",
       "    .dataframe thead th {\n",
       "        text-align: left;\n",
       "    }\n",
       "\n",
       "    .dataframe tbody tr th {\n",
       "        vertical-align: top;\n",
       "    }\n",
       "</style>\n",
       "<table border=\"1\" class=\"dataframe\">\n",
       "  <thead>\n",
       "    <tr style=\"text-align: right;\">\n",
       "      <th></th>\n",
       "      <th>original ingredient</th>\n",
       "      <th>improved ingredient</th>\n",
       "    </tr>\n",
       "  </thead>\n",
       "  <tbody>\n",
       "    <tr>\n",
       "      <th>0</th>\n",
       "      <td>pillsbury™ crescent recipe creations® refriger...</td>\n",
       "      <td>dough</td>\n",
       "    </tr>\n",
       "    <tr>\n",
       "      <th>1</th>\n",
       "      <td>kraft mexican style shredded four cheese with ...</td>\n",
       "      <td>cheese</td>\n",
       "    </tr>\n",
       "    <tr>\n",
       "      <th>2</th>\n",
       "      <td>bertolli vineyard premium collect marinara wit...</td>\n",
       "      <td>wine</td>\n",
       "    </tr>\n",
       "    <tr>\n",
       "      <th>3</th>\n",
       "      <td>hidden valley® farmhouse originals italian wit...</td>\n",
       "      <td>herbs</td>\n",
       "    </tr>\n",
       "    <tr>\n",
       "      <th>4</th>\n",
       "      <td>kraft shredded pepper jack cheese with a touch...</td>\n",
       "      <td>pepper</td>\n",
       "    </tr>\n",
       "    <tr>\n",
       "      <th>5</th>\n",
       "      <td>hidden valley® original ranch salad® dressing ...</td>\n",
       "      <td>seasoning</td>\n",
       "    </tr>\n",
       "    <tr>\n",
       "      <th>6</th>\n",
       "      <td>condensed reduced fat reduced sodium cream of ...</td>\n",
       "      <td>cream</td>\n",
       "    </tr>\n",
       "    <tr>\n",
       "      <th>7</th>\n",
       "      <td>hellmannâ€™ or best food canola cholesterol fr...</td>\n",
       "      <td>canola</td>\n",
       "    </tr>\n",
       "    <tr>\n",
       "      <th>8</th>\n",
       "      <td>condensed reduced fat reduced sodium cream of ...</td>\n",
       "      <td>chicken</td>\n",
       "    </tr>\n",
       "    <tr>\n",
       "      <th>9</th>\n",
       "      <td>i can't believ it' not butter! made with olive...</td>\n",
       "      <td>oil olive</td>\n",
       "    </tr>\n",
       "    <tr>\n",
       "      <th>10</th>\n",
       "      <td>(10 oz.) frozen chopped spinach, thawed and sq...</td>\n",
       "      <td>spinach</td>\n",
       "    </tr>\n",
       "    <tr>\n",
       "      <th>11</th>\n",
       "      <td>wish-bone light asian sesame ginger vinaigrett...</td>\n",
       "      <td>ginger</td>\n",
       "    </tr>\n",
       "    <tr>\n",
       "      <th>12</th>\n",
       "      <td>kraft shredded low-moisture part-skim mozzarel...</td>\n",
       "      <td>cheese mozzarella shredded</td>\n",
       "    </tr>\n",
       "    <tr>\n",
       "      <th>13</th>\n",
       "      <td>kraft mexican style 2% milk finely shredded fo...</td>\n",
       "      <td>milk</td>\n",
       "    </tr>\n",
       "    <tr>\n",
       "      <th>14</th>\n",
       "      <td>hurst family harvest chipotle lime black bean ...</td>\n",
       "      <td>lime</td>\n",
       "    </tr>\n",
       "    <tr>\n",
       "      <th>15</th>\n",
       "      <td>reduced fat reduced sodium tomato and herb pas...</td>\n",
       "      <td>sauce tomato</td>\n",
       "    </tr>\n",
       "    <tr>\n",
       "      <th>16</th>\n",
       "      <td>crystal farms reduced fat shredded marble jack...</td>\n",
       "      <td>cheese</td>\n",
       "    </tr>\n",
       "    <tr>\n",
       "      <th>17</th>\n",
       "      <td>frozen orange juice concentrate, thawed and un...</td>\n",
       "      <td>orange</td>\n",
       "    </tr>\n",
       "    <tr>\n",
       "      <th>18</th>\n",
       "      <td>i can't believe it's not butter!® all purpose ...</td>\n",
       "      <td>butter!® not sticks it's can't believe purpose...</td>\n",
       "    </tr>\n",
       "    <tr>\n",
       "      <th>19</th>\n",
       "      <td>sargento® traditional cut shredded mozzarella ...</td>\n",
       "      <td>cheese mozzarella shredded</td>\n",
       "    </tr>\n",
       "    <tr>\n",
       "      <th>20</th>\n",
       "      <td>lipton sparkling diet green tea with strawberr...</td>\n",
       "      <td>kiwi</td>\n",
       "    </tr>\n",
       "    <tr>\n",
       "      <th>21</th>\n",
       "      <td>hidden valley® greek yogurt original ranch® di...</td>\n",
       "      <td>greek yogurt</td>\n",
       "    </tr>\n",
       "    <tr>\n",
       "      <th>22</th>\n",
       "      <td>hidden valley® original ranch® spicy ranch dre...</td>\n",
       "      <td>ranch dressing</td>\n",
       "    </tr>\n",
       "    <tr>\n",
       "      <th>23</th>\n",
       "      <td>conimex woksaus specials vietnamese gember kno...</td>\n",
       "      <td>gember</td>\n",
       "    </tr>\n",
       "    <tr>\n",
       "      <th>24</th>\n",
       "      <td>sargento® traditional cut shredded 4 cheese me...</td>\n",
       "      <td>cheese</td>\n",
       "    </tr>\n",
       "    <tr>\n",
       "      <th>25</th>\n",
       "      <td>honeysuckle white® hot italian turkey sausage ...</td>\n",
       "      <td>italian sausage</td>\n",
       "    </tr>\n",
       "    <tr>\n",
       "      <th>26</th>\n",
       "      <td>ragu old world style sweet tomato basil pasta ...</td>\n",
       "      <td>pasta</td>\n",
       "    </tr>\n",
       "    <tr>\n",
       "      <th>27</th>\n",
       "      <td>sargento® artisan blends® shredded parmesan ch...</td>\n",
       "      <td>parmesan cheese</td>\n",
       "    </tr>\n",
       "    <tr>\n",
       "      <th>28</th>\n",
       "      <td>reduced sodium reduced fat cream of mushroom soup</td>\n",
       "      <td>cream</td>\n",
       "    </tr>\n",
       "    <tr>\n",
       "      <th>29</th>\n",
       "      <td>reduced fat reduced sodium cream of mushroom soup</td>\n",
       "      <td>cream</td>\n",
       "    </tr>\n",
       "    <tr>\n",
       "      <th>30</th>\n",
       "      <td>frozen lemonade concentrate, thawed and undiluted</td>\n",
       "      <td>concentrate lemonade frozen</td>\n",
       "    </tr>\n",
       "    <tr>\n",
       "      <th>31</th>\n",
       "      <td>shredded reduced fat reduced sodium swiss cheese</td>\n",
       "      <td>cheese</td>\n",
       "    </tr>\n",
       "    <tr>\n",
       "      <th>32</th>\n",
       "      <td>condensed reduced fat reduced sodium tomato soup</td>\n",
       "      <td>fat</td>\n",
       "    </tr>\n",
       "    <tr>\n",
       "      <th>33</th>\n",
       "      <td>frozen chopped spinach, thawed and squeezed dry</td>\n",
       "      <td>spinach</td>\n",
       "    </tr>\n",
       "    <tr>\n",
       "      <th>34</th>\n",
       "      <td>knorr reduc sodium chicken flavor bouillon cube</td>\n",
       "      <td>chicken</td>\n",
       "    </tr>\n",
       "    <tr>\n",
       "      <th>35</th>\n",
       "      <td>2 1/2 to 3 lb. chicken, cut into serving pieces</td>\n",
       "      <td>chicken</td>\n",
       "    </tr>\n",
       "    <tr>\n",
       "      <th>36</th>\n",
       "      <td>kraft mexican style finely shredded four cheese</td>\n",
       "      <td>cheese</td>\n",
       "    </tr>\n",
       "    <tr>\n",
       "      <th>37</th>\n",
       "      <td>frank's® redhot® original cayenne pepper sauce</td>\n",
       "      <td>pepper</td>\n",
       "    </tr>\n",
       "    <tr>\n",
       "      <th>38</th>\n",
       "      <td>foster farms boneless skinless chicken breasts</td>\n",
       "      <td>chicken boneless skinless breasts</td>\n",
       "    </tr>\n",
       "    <tr>\n",
       "      <th>39</th>\n",
       "      <td>reduced sodium condensed cream of chicken soup</td>\n",
       "      <td>chicken</td>\n",
       "    </tr>\n",
       "    <tr>\n",
       "      <th>40</th>\n",
       "      <td>knorr tomato bouillon with chicken flavor cube</td>\n",
       "      <td>chicken</td>\n",
       "    </tr>\n",
       "    <tr>\n",
       "      <th>41</th>\n",
       "      <td>pompeian canola oil and extra virgin olive oil</td>\n",
       "      <td>oil olive</td>\n",
       "    </tr>\n",
       "    <tr>\n",
       "      <th>42</th>\n",
       "      <td>hidden valley® original ranch® light dressing</td>\n",
       "      <td>dressing</td>\n",
       "    </tr>\n",
       "    <tr>\n",
       "      <th>43</th>\n",
       "      <td>pillsbury™ refrigerated crescent dinner rolls</td>\n",
       "      <td>rolls</td>\n",
       "    </tr>\n",
       "    <tr>\n",
       "      <th>44</th>\n",
       "      <td>taco bell® home originals® taco seasoning mix</td>\n",
       "      <td>seasoning taco</td>\n",
       "    </tr>\n",
       "    <tr>\n",
       "      <th>45</th>\n",
       "      <td>soy vay® veri veri teriyaki® marinade &amp; sauce</td>\n",
       "      <td>sauce soy</td>\n",
       "    </tr>\n",
       "    <tr>\n",
       "      <th>46</th>\n",
       "      <td>uncle ben's ready rice whole grain brown rice</td>\n",
       "      <td>rice</td>\n",
       "    </tr>\n",
       "    <tr>\n",
       "      <th>47</th>\n",
       "      <td>reduced sodium italian style stewed tomatoes</td>\n",
       "      <td>tomatoes</td>\n",
       "    </tr>\n",
       "    <tr>\n",
       "      <th>48</th>\n",
       "      <td>kraft reduced fat shredded mozzarella cheese</td>\n",
       "      <td>cheese mozzarella shredded</td>\n",
       "    </tr>\n",
       "    <tr>\n",
       "      <th>49</th>\n",
       "      <td>skinless and boneless chicken breast fillet</td>\n",
       "      <td>chicken</td>\n",
       "    </tr>\n",
       "  </tbody>\n",
       "</table>\n",
       "</div>"
      ],
      "text/plain": [
       "                                  original ingredient  \\\n",
       "0   pillsbury™ crescent recipe creations® refriger...   \n",
       "1   kraft mexican style shredded four cheese with ...   \n",
       "2   bertolli vineyard premium collect marinara wit...   \n",
       "3   hidden valley® farmhouse originals italian wit...   \n",
       "4   kraft shredded pepper jack cheese with a touch...   \n",
       "5   hidden valley® original ranch salad® dressing ...   \n",
       "6   condensed reduced fat reduced sodium cream of ...   \n",
       "7   hellmannâ€™ or best food canola cholesterol fr...   \n",
       "8   condensed reduced fat reduced sodium cream of ...   \n",
       "9   i can't believ it' not butter! made with olive...   \n",
       "10  (10 oz.) frozen chopped spinach, thawed and sq...   \n",
       "11  wish-bone light asian sesame ginger vinaigrett...   \n",
       "12  kraft shredded low-moisture part-skim mozzarel...   \n",
       "13  kraft mexican style 2% milk finely shredded fo...   \n",
       "14  hurst family harvest chipotle lime black bean ...   \n",
       "15  reduced fat reduced sodium tomato and herb pas...   \n",
       "16  crystal farms reduced fat shredded marble jack...   \n",
       "17  frozen orange juice concentrate, thawed and un...   \n",
       "18  i can't believe it's not butter!® all purpose ...   \n",
       "19  sargento® traditional cut shredded mozzarella ...   \n",
       "20  lipton sparkling diet green tea with strawberr...   \n",
       "21  hidden valley® greek yogurt original ranch® di...   \n",
       "22  hidden valley® original ranch® spicy ranch dre...   \n",
       "23  conimex woksaus specials vietnamese gember kno...   \n",
       "24  sargento® traditional cut shredded 4 cheese me...   \n",
       "25  honeysuckle white® hot italian turkey sausage ...   \n",
       "26  ragu old world style sweet tomato basil pasta ...   \n",
       "27  sargento® artisan blends® shredded parmesan ch...   \n",
       "28  reduced sodium reduced fat cream of mushroom soup   \n",
       "29  reduced fat reduced sodium cream of mushroom soup   \n",
       "30  frozen lemonade concentrate, thawed and undiluted   \n",
       "31   shredded reduced fat reduced sodium swiss cheese   \n",
       "32   condensed reduced fat reduced sodium tomato soup   \n",
       "33    frozen chopped spinach, thawed and squeezed dry   \n",
       "34    knorr reduc sodium chicken flavor bouillon cube   \n",
       "35    2 1/2 to 3 lb. chicken, cut into serving pieces   \n",
       "36    kraft mexican style finely shredded four cheese   \n",
       "37     frank's® redhot® original cayenne pepper sauce   \n",
       "38     foster farms boneless skinless chicken breasts   \n",
       "39     reduced sodium condensed cream of chicken soup   \n",
       "40     knorr tomato bouillon with chicken flavor cube   \n",
       "41     pompeian canola oil and extra virgin olive oil   \n",
       "42      hidden valley® original ranch® light dressing   \n",
       "43      pillsbury™ refrigerated crescent dinner rolls   \n",
       "44      taco bell® home originals® taco seasoning mix   \n",
       "45      soy vay® veri veri teriyaki® marinade & sauce   \n",
       "46      uncle ben's ready rice whole grain brown rice   \n",
       "47       reduced sodium italian style stewed tomatoes   \n",
       "48       kraft reduced fat shredded mozzarella cheese   \n",
       "49        skinless and boneless chicken breast fillet   \n",
       "\n",
       "                                  improved ingredient  \n",
       "0                                               dough  \n",
       "1                                              cheese  \n",
       "2                                                wine  \n",
       "3                                               herbs  \n",
       "4                                              pepper  \n",
       "5                                           seasoning  \n",
       "6                                               cream  \n",
       "7                                              canola  \n",
       "8                                             chicken  \n",
       "9                                           oil olive  \n",
       "10                                            spinach  \n",
       "11                                             ginger  \n",
       "12                         cheese mozzarella shredded  \n",
       "13                                               milk  \n",
       "14                                               lime  \n",
       "15                                       sauce tomato  \n",
       "16                                             cheese  \n",
       "17                                             orange  \n",
       "18  butter!® not sticks it's can't believe purpose...  \n",
       "19                         cheese mozzarella shredded  \n",
       "20                                               kiwi  \n",
       "21                                       greek yogurt  \n",
       "22                                     ranch dressing  \n",
       "23                                             gember  \n",
       "24                                             cheese  \n",
       "25                                    italian sausage  \n",
       "26                                              pasta  \n",
       "27                                    parmesan cheese  \n",
       "28                                              cream  \n",
       "29                                              cream  \n",
       "30                        concentrate lemonade frozen  \n",
       "31                                             cheese  \n",
       "32                                                fat  \n",
       "33                                            spinach  \n",
       "34                                            chicken  \n",
       "35                                            chicken  \n",
       "36                                             cheese  \n",
       "37                                             pepper  \n",
       "38                  chicken boneless skinless breasts  \n",
       "39                                            chicken  \n",
       "40                                            chicken  \n",
       "41                                          oil olive  \n",
       "42                                           dressing  \n",
       "43                                              rolls  \n",
       "44                                     seasoning taco  \n",
       "45                                          sauce soy  \n",
       "46                                               rice  \n",
       "47                                           tomatoes  \n",
       "48                         cheese mozzarella shredded  \n",
       "49                                            chicken  "
      ]
     },
     "execution_count": 85,
     "metadata": {},
     "output_type": "execute_result"
    }
   ],
   "source": [
    "pd.DataFrame([(text, \n",
    "               \" \".join(best_replacement(to_ingredient(text)))) \n",
    "              for text in sorted(set(all_ingredients_text), key=len, reverse=True)[:50]],\n",
    "            columns=['original ingredient', 'improved ingredient'])"
   ]
  },
  {
   "cell_type": "code",
   "execution_count": 86,
   "metadata": {
    "collapsed": true
   },
   "outputs": [],
   "source": [
    "def candidates_increasing_distance(ingredient, vocabulary):\n",
    "    \"Returns candidate ingredients obtained from the original ingredient by substraction, largest number of ingredients first.\"\n",
    "    n = len(ingredient)\n",
    "    for i in range(n - 1, 1, -1):\n",
    "        possible = [frozenset(combi) for combi in itertools.combinations(ingredient, i) \n",
    "                    if frozenset(combi) in vocabulary]\n",
    "        if len(possible) > 0:\n",
    "            return possible\n",
    "    return [ingredient]"
   ]
  },
  {
   "cell_type": "code",
   "execution_count": 87,
   "metadata": {
    "collapsed": true
   },
   "outputs": [],
   "source": [
    "vocabulary = dict(c.most_common())"
   ]
  },
  {
   "cell_type": "code",
   "execution_count": 88,
   "metadata": {},
   "outputs": [
    {
     "data": {
      "text/plain": [
       "[frozenset({'salt'}),\n",
       " frozenset({'onions'}),\n",
       " frozenset({'oil', 'olive'}),\n",
       " frozenset({'water'}),\n",
       " frozenset({'garlic'}),\n",
       " frozenset({'sugar'}),\n",
       " frozenset({'cloves', 'garlic'}),\n",
       " frozenset({'butter'}),\n",
       " frozenset({'black', 'ground', 'pepper'}),\n",
       " frozenset({'all-purpose', 'flour'})]"
      ]
     },
     "execution_count": 88,
     "metadata": {},
     "output_type": "execute_result"
    }
   ],
   "source": [
    "list(vocabulary.keys())[:10]"
   ]
  },
  {
   "cell_type": "code",
   "execution_count": 89,
   "metadata": {},
   "outputs": [
    {
     "data": {
      "text/plain": [
       "[frozenset({'clam', 'juice'})]"
      ]
     },
     "execution_count": 89,
     "metadata": {},
     "output_type": "execute_result"
    }
   ],
   "source": [
    "candidates_increasing_distance(to_ingredient(\"bottled clam juice\"), vocabulary)"
   ]
  },
  {
   "cell_type": "code",
   "execution_count": 90,
   "metadata": {},
   "outputs": [
    {
     "data": {
      "text/plain": [
       "[frozenset({'dressing', 'ranch'})]"
      ]
     },
     "execution_count": 90,
     "metadata": {},
     "output_type": "execute_result"
    }
   ],
   "source": [
    "candidates_increasing_distance(to_ingredient('hidden valley original ranch spicy ranch dressing'), vocabulary)"
   ]
  },
  {
   "cell_type": "code",
   "execution_count": 91,
   "metadata": {},
   "outputs": [
    {
     "data": {
      "text/plain": [
       "[frozenset({'boneless', 'breast', 'chicken', 'skinless'})]"
      ]
     },
     "execution_count": 91,
     "metadata": {},
     "output_type": "execute_result"
    }
   ],
   "source": [
    "candidates_increasing_distance(to_ingredient(\"skinless and boneless chicken breast fillet\"), vocabulary)\n"
   ]
  },
  {
   "cell_type": "code",
   "execution_count": 92,
   "metadata": {},
   "outputs": [
    {
     "data": {
      "text/plain": [
       "[frozenset({'italian', 'stewed', 'style', 'tomatoes'})]"
      ]
     },
     "execution_count": 92,
     "metadata": {},
     "output_type": "execute_result"
    }
   ],
   "source": [
    "candidates_increasing_distance(to_ingredient(\"reduced sodium italian style stewed tomatoes\"), vocabulary)\n",
    "[frozenset({'italian', 'stewed', 'style', 'tomatoes'})]"
   ]
  },
  {
   "cell_type": "code",
   "execution_count": 93,
   "metadata": {
    "collapsed": true
   },
   "outputs": [],
   "source": [
    "def best_replacement_increasing_distance(ingredient, vocabulary):\n",
    "    \"Computes best replacement ingredient for a given input.\"\n",
    "    return max(candidates_increasing_distance(ingredient, vocabulary), key=lambda w: vocabulary[w])"
   ]
  },
  {
   "cell_type": "code",
   "execution_count": 94,
   "metadata": {},
   "outputs": [
    {
     "data": {
      "text/html": [
       "<div>\n",
       "<style>\n",
       "    .dataframe thead tr:only-child th {\n",
       "        text-align: right;\n",
       "    }\n",
       "\n",
       "    .dataframe thead th {\n",
       "        text-align: left;\n",
       "    }\n",
       "\n",
       "    .dataframe tbody tr th {\n",
       "        vertical-align: top;\n",
       "    }\n",
       "</style>\n",
       "<table border=\"1\" class=\"dataframe\">\n",
       "  <thead>\n",
       "    <tr style=\"text-align: right;\">\n",
       "      <th></th>\n",
       "      <th>original ingredient</th>\n",
       "      <th>improved ingredient</th>\n",
       "    </tr>\n",
       "  </thead>\n",
       "  <tbody>\n",
       "    <tr>\n",
       "      <th>0</th>\n",
       "      <td>pillsbury™ crescent recipe creations® refriger...</td>\n",
       "      <td>refrigerated dough crescent seamless</td>\n",
       "    </tr>\n",
       "    <tr>\n",
       "      <th>1</th>\n",
       "      <td>kraft mexican style shredded four cheese with ...</td>\n",
       "      <td>cheese shredded</td>\n",
       "    </tr>\n",
       "    <tr>\n",
       "      <th>2</th>\n",
       "      <td>bertolli vineyard premium collect marinara wit...</td>\n",
       "      <td>vineyard bertolli wine premium burgundi marina...</td>\n",
       "    </tr>\n",
       "    <tr>\n",
       "      <th>3</th>\n",
       "      <td>hidden valley® farmhouse originals italian wit...</td>\n",
       "      <td>herbs italian</td>\n",
       "    </tr>\n",
       "    <tr>\n",
       "      <th>4</th>\n",
       "      <td>kraft shredded pepper jack cheese with a touch...</td>\n",
       "      <td>kraft pepper jack cheese shredded</td>\n",
       "    </tr>\n",
       "    <tr>\n",
       "      <th>5</th>\n",
       "      <td>hidden valley® original ranch salad® dressing ...</td>\n",
       "      <td>ranch dressing</td>\n",
       "    </tr>\n",
       "    <tr>\n",
       "      <th>6</th>\n",
       "      <td>condensed reduced fat reduced sodium cream of ...</td>\n",
       "      <td>sodium soup reduced cream fat of mushroom</td>\n",
       "    </tr>\n",
       "    <tr>\n",
       "      <th>7</th>\n",
       "      <td>hellmannâ€™ or best food canola cholesterol fr...</td>\n",
       "      <td>or cholesterol food canola mayonnais hellmannâ...</td>\n",
       "    </tr>\n",
       "    <tr>\n",
       "      <th>8</th>\n",
       "      <td>condensed reduced fat reduced sodium cream of ...</td>\n",
       "      <td>sodium soup chicken reduced cream of condensed</td>\n",
       "    </tr>\n",
       "    <tr>\n",
       "      <th>9</th>\n",
       "      <td>i can't believ it' not butter! made with olive...</td>\n",
       "      <td>oil olive</td>\n",
       "    </tr>\n",
       "    <tr>\n",
       "      <th>10</th>\n",
       "      <td>(10 oz.) frozen chopped spinach, thawed and sq...</td>\n",
       "      <td>spinach squeezed frozen thawed chopped and dry</td>\n",
       "    </tr>\n",
       "    <tr>\n",
       "      <th>11</th>\n",
       "      <td>wish-bone light asian sesame ginger vinaigrett...</td>\n",
       "      <td>vinaigrette dressing</td>\n",
       "    </tr>\n",
       "    <tr>\n",
       "      <th>12</th>\n",
       "      <td>kraft shredded low-moisture part-skim mozzarel...</td>\n",
       "      <td>cheese kraft mozzarella shredded</td>\n",
       "    </tr>\n",
       "    <tr>\n",
       "      <th>13</th>\n",
       "      <td>kraft mexican style 2% milk finely shredded fo...</td>\n",
       "      <td>kraft finely cheese shredded style mexican four</td>\n",
       "    </tr>\n",
       "    <tr>\n",
       "      <th>14</th>\n",
       "      <td>hurst family harvest chipotle lime black bean ...</td>\n",
       "      <td>soup mix bean</td>\n",
       "    </tr>\n",
       "    <tr>\n",
       "      <th>15</th>\n",
       "      <td>reduced fat reduced sodium tomato and herb pas...</td>\n",
       "      <td>sauce tomato</td>\n",
       "    </tr>\n",
       "    <tr>\n",
       "      <th>16</th>\n",
       "      <td>crystal farms reduced fat shredded marble jack...</td>\n",
       "      <td>cheese reduced shredded fat</td>\n",
       "    </tr>\n",
       "    <tr>\n",
       "      <th>17</th>\n",
       "      <td>frozen orange juice concentrate, thawed and un...</td>\n",
       "      <td>juice orange concentrate frozen</td>\n",
       "    </tr>\n",
       "    <tr>\n",
       "      <th>18</th>\n",
       "      <td>i can't believe it's not butter!® all purpose ...</td>\n",
       "      <td>butter!® not sticks it's can't believe purpose...</td>\n",
       "    </tr>\n",
       "    <tr>\n",
       "      <th>19</th>\n",
       "      <td>sargento® traditional cut shredded mozzarella ...</td>\n",
       "      <td>cheese mozzarella shredded</td>\n",
       "    </tr>\n",
       "    <tr>\n",
       "      <th>20</th>\n",
       "      <td>lipton sparkling diet green tea with strawberr...</td>\n",
       "      <td>green tea</td>\n",
       "    </tr>\n",
       "    <tr>\n",
       "      <th>21</th>\n",
       "      <td>hidden valley® greek yogurt original ranch® di...</td>\n",
       "      <td>greek yogurt</td>\n",
       "    </tr>\n",
       "    <tr>\n",
       "      <th>22</th>\n",
       "      <td>hidden valley® original ranch® spicy ranch dre...</td>\n",
       "      <td>valley® dressing ranch® hidden original</td>\n",
       "    </tr>\n",
       "    <tr>\n",
       "      <th>23</th>\n",
       "      <td>conimex woksaus specials vietnamese gember kno...</td>\n",
       "      <td>gember conimex specials knoflook woksaus vietn...</td>\n",
       "    </tr>\n",
       "    <tr>\n",
       "      <th>24</th>\n",
       "      <td>sargento® traditional cut shredded 4 cheese me...</td>\n",
       "      <td>cheese shredded</td>\n",
       "    </tr>\n",
       "    <tr>\n",
       "      <th>25</th>\n",
       "      <td>honeysuckle white® hot italian turkey sausage ...</td>\n",
       "      <td>turkey links sausage italian hot</td>\n",
       "    </tr>\n",
       "    <tr>\n",
       "      <th>26</th>\n",
       "      <td>ragu old world style sweet tomato basil pasta ...</td>\n",
       "      <td>pasta ragu style sauc old world</td>\n",
       "    </tr>\n",
       "    <tr>\n",
       "      <th>27</th>\n",
       "      <td>sargento® artisan blends® shredded parmesan ch...</td>\n",
       "      <td>cheese parmesan shredded</td>\n",
       "    </tr>\n",
       "    <tr>\n",
       "      <th>28</th>\n",
       "      <td>reduced sodium reduced fat cream of mushroom soup</td>\n",
       "      <td>sodium soup reduced cream of mushroom</td>\n",
       "    </tr>\n",
       "    <tr>\n",
       "      <th>29</th>\n",
       "      <td>reduced fat reduced sodium cream of mushroom soup</td>\n",
       "      <td>sodium soup reduced cream of mushroom</td>\n",
       "    </tr>\n",
       "    <tr>\n",
       "      <th>30</th>\n",
       "      <td>frozen lemonade concentrate, thawed and undiluted</td>\n",
       "      <td>concentrate lemonade frozen</td>\n",
       "    </tr>\n",
       "    <tr>\n",
       "      <th>31</th>\n",
       "      <td>shredded reduced fat reduced sodium swiss cheese</td>\n",
       "      <td>swiss reduced cheese fat</td>\n",
       "    </tr>\n",
       "    <tr>\n",
       "      <th>32</th>\n",
       "      <td>condensed reduced fat reduced sodium tomato soup</td>\n",
       "      <td>soup tomato condensed</td>\n",
       "    </tr>\n",
       "    <tr>\n",
       "      <th>33</th>\n",
       "      <td>frozen chopped spinach, thawed and squeezed dry</td>\n",
       "      <td>spinach chopped frozen</td>\n",
       "    </tr>\n",
       "    <tr>\n",
       "      <th>34</th>\n",
       "      <td>knorr reduc sodium chicken flavor bouillon cube</td>\n",
       "      <td>sodium knorr flavor chicken reduc bouillon</td>\n",
       "    </tr>\n",
       "    <tr>\n",
       "      <th>35</th>\n",
       "      <td>2 1/2 to 3 lb. chicken, cut into serving pieces</td>\n",
       "      <td>chicken pieces</td>\n",
       "    </tr>\n",
       "    <tr>\n",
       "      <th>36</th>\n",
       "      <td>kraft mexican style finely shredded four cheese</td>\n",
       "      <td>cheese shredded</td>\n",
       "    </tr>\n",
       "    <tr>\n",
       "      <th>37</th>\n",
       "      <td>frank's® redhot® original cayenne pepper sauce</td>\n",
       "      <td>pepper sauce cayenne</td>\n",
       "    </tr>\n",
       "    <tr>\n",
       "      <th>38</th>\n",
       "      <td>foster farms boneless skinless chicken breasts</td>\n",
       "      <td>chicken boneless skinless breasts</td>\n",
       "    </tr>\n",
       "    <tr>\n",
       "      <th>39</th>\n",
       "      <td>reduced sodium condensed cream of chicken soup</td>\n",
       "      <td>soup chicken cream of condensed</td>\n",
       "    </tr>\n",
       "    <tr>\n",
       "      <th>40</th>\n",
       "      <td>knorr tomato bouillon with chicken flavor cube</td>\n",
       "      <td>knorr flavor chicken tomato with bouillon</td>\n",
       "    </tr>\n",
       "    <tr>\n",
       "      <th>41</th>\n",
       "      <td>pompeian canola oil and extra virgin olive oil</td>\n",
       "      <td>oil virgin olive</td>\n",
       "    </tr>\n",
       "    <tr>\n",
       "      <th>42</th>\n",
       "      <td>hidden valley® original ranch® light dressing</td>\n",
       "      <td>valley® dressing ranch® hidden original</td>\n",
       "    </tr>\n",
       "    <tr>\n",
       "      <th>43</th>\n",
       "      <td>pillsbury™ refrigerated crescent dinner rolls</td>\n",
       "      <td>rolls refrigerated crescent</td>\n",
       "    </tr>\n",
       "    <tr>\n",
       "      <th>44</th>\n",
       "      <td>taco bell® home originals® taco seasoning mix</td>\n",
       "      <td>seasoning taco mix</td>\n",
       "    </tr>\n",
       "    <tr>\n",
       "      <th>45</th>\n",
       "      <td>soy vay® veri veri teriyaki® marinade &amp; sauce</td>\n",
       "      <td>sauce soy</td>\n",
       "    </tr>\n",
       "    <tr>\n",
       "      <th>46</th>\n",
       "      <td>uncle ben's ready rice whole grain brown rice</td>\n",
       "      <td>rice whole grain</td>\n",
       "    </tr>\n",
       "    <tr>\n",
       "      <th>47</th>\n",
       "      <td>reduced sodium italian style stewed tomatoes</td>\n",
       "      <td>italian tomatoes stewed style</td>\n",
       "    </tr>\n",
       "    <tr>\n",
       "      <th>48</th>\n",
       "      <td>kraft reduced fat shredded mozzarella cheese</td>\n",
       "      <td>cheese reduced shredded fat</td>\n",
       "    </tr>\n",
       "    <tr>\n",
       "      <th>49</th>\n",
       "      <td>skinless and boneless chicken breast fillet</td>\n",
       "      <td>chicken breast boneless skinless</td>\n",
       "    </tr>\n",
       "  </tbody>\n",
       "</table>\n",
       "</div>"
      ],
      "text/plain": [
       "                                  original ingredient  \\\n",
       "0   pillsbury™ crescent recipe creations® refriger...   \n",
       "1   kraft mexican style shredded four cheese with ...   \n",
       "2   bertolli vineyard premium collect marinara wit...   \n",
       "3   hidden valley® farmhouse originals italian wit...   \n",
       "4   kraft shredded pepper jack cheese with a touch...   \n",
       "5   hidden valley® original ranch salad® dressing ...   \n",
       "6   condensed reduced fat reduced sodium cream of ...   \n",
       "7   hellmannâ€™ or best food canola cholesterol fr...   \n",
       "8   condensed reduced fat reduced sodium cream of ...   \n",
       "9   i can't believ it' not butter! made with olive...   \n",
       "10  (10 oz.) frozen chopped spinach, thawed and sq...   \n",
       "11  wish-bone light asian sesame ginger vinaigrett...   \n",
       "12  kraft shredded low-moisture part-skim mozzarel...   \n",
       "13  kraft mexican style 2% milk finely shredded fo...   \n",
       "14  hurst family harvest chipotle lime black bean ...   \n",
       "15  reduced fat reduced sodium tomato and herb pas...   \n",
       "16  crystal farms reduced fat shredded marble jack...   \n",
       "17  frozen orange juice concentrate, thawed and un...   \n",
       "18  i can't believe it's not butter!® all purpose ...   \n",
       "19  sargento® traditional cut shredded mozzarella ...   \n",
       "20  lipton sparkling diet green tea with strawberr...   \n",
       "21  hidden valley® greek yogurt original ranch® di...   \n",
       "22  hidden valley® original ranch® spicy ranch dre...   \n",
       "23  conimex woksaus specials vietnamese gember kno...   \n",
       "24  sargento® traditional cut shredded 4 cheese me...   \n",
       "25  honeysuckle white® hot italian turkey sausage ...   \n",
       "26  ragu old world style sweet tomato basil pasta ...   \n",
       "27  sargento® artisan blends® shredded parmesan ch...   \n",
       "28  reduced sodium reduced fat cream of mushroom soup   \n",
       "29  reduced fat reduced sodium cream of mushroom soup   \n",
       "30  frozen lemonade concentrate, thawed and undiluted   \n",
       "31   shredded reduced fat reduced sodium swiss cheese   \n",
       "32   condensed reduced fat reduced sodium tomato soup   \n",
       "33    frozen chopped spinach, thawed and squeezed dry   \n",
       "34    knorr reduc sodium chicken flavor bouillon cube   \n",
       "35    2 1/2 to 3 lb. chicken, cut into serving pieces   \n",
       "36    kraft mexican style finely shredded four cheese   \n",
       "37     frank's® redhot® original cayenne pepper sauce   \n",
       "38     foster farms boneless skinless chicken breasts   \n",
       "39     reduced sodium condensed cream of chicken soup   \n",
       "40     knorr tomato bouillon with chicken flavor cube   \n",
       "41     pompeian canola oil and extra virgin olive oil   \n",
       "42      hidden valley® original ranch® light dressing   \n",
       "43      pillsbury™ refrigerated crescent dinner rolls   \n",
       "44      taco bell® home originals® taco seasoning mix   \n",
       "45      soy vay® veri veri teriyaki® marinade & sauce   \n",
       "46      uncle ben's ready rice whole grain brown rice   \n",
       "47       reduced sodium italian style stewed tomatoes   \n",
       "48       kraft reduced fat shredded mozzarella cheese   \n",
       "49        skinless and boneless chicken breast fillet   \n",
       "\n",
       "                                  improved ingredient  \n",
       "0                refrigerated dough crescent seamless  \n",
       "1                                     cheese shredded  \n",
       "2   vineyard bertolli wine premium burgundi marina...  \n",
       "3                                       herbs italian  \n",
       "4                   kraft pepper jack cheese shredded  \n",
       "5                                      ranch dressing  \n",
       "6           sodium soup reduced cream fat of mushroom  \n",
       "7   or cholesterol food canola mayonnais hellmannâ...  \n",
       "8      sodium soup chicken reduced cream of condensed  \n",
       "9                                           oil olive  \n",
       "10     spinach squeezed frozen thawed chopped and dry  \n",
       "11                               vinaigrette dressing  \n",
       "12                   cheese kraft mozzarella shredded  \n",
       "13    kraft finely cheese shredded style mexican four  \n",
       "14                                      soup mix bean  \n",
       "15                                       sauce tomato  \n",
       "16                        cheese reduced shredded fat  \n",
       "17                    juice orange concentrate frozen  \n",
       "18  butter!® not sticks it's can't believe purpose...  \n",
       "19                         cheese mozzarella shredded  \n",
       "20                                          green tea  \n",
       "21                                       greek yogurt  \n",
       "22            valley® dressing ranch® hidden original  \n",
       "23  gember conimex specials knoflook woksaus vietn...  \n",
       "24                                    cheese shredded  \n",
       "25                   turkey links sausage italian hot  \n",
       "26                    pasta ragu style sauc old world  \n",
       "27                           cheese parmesan shredded  \n",
       "28              sodium soup reduced cream of mushroom  \n",
       "29              sodium soup reduced cream of mushroom  \n",
       "30                        concentrate lemonade frozen  \n",
       "31                           swiss reduced cheese fat  \n",
       "32                              soup tomato condensed  \n",
       "33                             spinach chopped frozen  \n",
       "34         sodium knorr flavor chicken reduc bouillon  \n",
       "35                                     chicken pieces  \n",
       "36                                    cheese shredded  \n",
       "37                               pepper sauce cayenne  \n",
       "38                  chicken boneless skinless breasts  \n",
       "39                    soup chicken cream of condensed  \n",
       "40          knorr flavor chicken tomato with bouillon  \n",
       "41                                   oil virgin olive  \n",
       "42            valley® dressing ranch® hidden original  \n",
       "43                        rolls refrigerated crescent  \n",
       "44                                 seasoning taco mix  \n",
       "45                                          sauce soy  \n",
       "46                                   rice whole grain  \n",
       "47                      italian tomatoes stewed style  \n",
       "48                        cheese reduced shredded fat  \n",
       "49                   chicken breast boneless skinless  "
      ]
     },
     "execution_count": 94,
     "metadata": {},
     "output_type": "execute_result"
    }
   ],
   "source": [
    "pd.DataFrame([(text, \n",
    "               \" \".join(best_replacement_increasing_distance(to_ingredient(text), vocabulary))) \n",
    "              for text in sorted(set(all_ingredients_text), key=len, reverse=True)[:50]],\n",
    "            columns=['original ingredient', 'improved ingredient'])"
   ]
  },
  {
   "cell_type": "code",
   "execution_count": 95,
   "metadata": {},
   "outputs": [
    {
     "data": {
      "text/html": [
       "<div>\n",
       "<style>\n",
       "    .dataframe thead tr:only-child th {\n",
       "        text-align: right;\n",
       "    }\n",
       "\n",
       "    .dataframe thead th {\n",
       "        text-align: left;\n",
       "    }\n",
       "\n",
       "    .dataframe tbody tr th {\n",
       "        vertical-align: top;\n",
       "    }\n",
       "</style>\n",
       "<table border=\"1\" class=\"dataframe\">\n",
       "  <thead>\n",
       "    <tr style=\"text-align: right;\">\n",
       "      <th></th>\n",
       "      <th>original ingredient</th>\n",
       "      <th>improved ingredient</th>\n",
       "    </tr>\n",
       "  </thead>\n",
       "  <tbody>\n",
       "    <tr>\n",
       "      <th>0</th>\n",
       "      <td>pillsbury™ crescent recipe creations® refriger...</td>\n",
       "      <td>refrigerated dough crescent seamless</td>\n",
       "    </tr>\n",
       "    <tr>\n",
       "      <th>1</th>\n",
       "      <td>kraft mexican style shredded four cheese with ...</td>\n",
       "      <td>cheese shredded</td>\n",
       "    </tr>\n",
       "    <tr>\n",
       "      <th>2</th>\n",
       "      <td>bertolli vineyard premium collect marinara wit...</td>\n",
       "      <td>vineyard bertolli wine premium burgundi marina...</td>\n",
       "    </tr>\n",
       "    <tr>\n",
       "      <th>3</th>\n",
       "      <td>hidden valley® farmhouse originals italian wit...</td>\n",
       "      <td>herbs italian</td>\n",
       "    </tr>\n",
       "    <tr>\n",
       "      <th>4</th>\n",
       "      <td>kraft shredded pepper jack cheese with a touch...</td>\n",
       "      <td>kraft pepper jack cheese shredded</td>\n",
       "    </tr>\n",
       "    <tr>\n",
       "      <th>5</th>\n",
       "      <td>hidden valley® original ranch salad® dressing ...</td>\n",
       "      <td>ranch dressing</td>\n",
       "    </tr>\n",
       "    <tr>\n",
       "      <th>6</th>\n",
       "      <td>condensed reduced fat reduced sodium cream of ...</td>\n",
       "      <td>sodium soup reduced cream fat of mushroom</td>\n",
       "    </tr>\n",
       "    <tr>\n",
       "      <th>7</th>\n",
       "      <td>hellmannâ€™ or best food canola cholesterol fr...</td>\n",
       "      <td>or cholesterol food canola mayonnais hellmannâ...</td>\n",
       "    </tr>\n",
       "    <tr>\n",
       "      <th>8</th>\n",
       "      <td>condensed reduced fat reduced sodium cream of ...</td>\n",
       "      <td>sodium soup chicken reduced cream of condensed</td>\n",
       "    </tr>\n",
       "    <tr>\n",
       "      <th>9</th>\n",
       "      <td>i can't believ it' not butter! made with olive...</td>\n",
       "      <td>oil olive</td>\n",
       "    </tr>\n",
       "    <tr>\n",
       "      <th>10</th>\n",
       "      <td>(10 oz.) frozen chopped spinach, thawed and sq...</td>\n",
       "      <td>spinach squeezed frozen thawed chopped and dry</td>\n",
       "    </tr>\n",
       "    <tr>\n",
       "      <th>11</th>\n",
       "      <td>wish-bone light asian sesame ginger vinaigrett...</td>\n",
       "      <td>vinaigrette dressing</td>\n",
       "    </tr>\n",
       "    <tr>\n",
       "      <th>12</th>\n",
       "      <td>kraft shredded low-moisture part-skim mozzarel...</td>\n",
       "      <td>cheese kraft mozzarella shredded</td>\n",
       "    </tr>\n",
       "    <tr>\n",
       "      <th>13</th>\n",
       "      <td>kraft mexican style 2% milk finely shredded fo...</td>\n",
       "      <td>kraft finely cheese shredded style mexican four</td>\n",
       "    </tr>\n",
       "    <tr>\n",
       "      <th>14</th>\n",
       "      <td>hurst family harvest chipotle lime black bean ...</td>\n",
       "      <td>soup mix bean</td>\n",
       "    </tr>\n",
       "    <tr>\n",
       "      <th>15</th>\n",
       "      <td>reduced fat reduced sodium tomato and herb pas...</td>\n",
       "      <td>sauce tomato</td>\n",
       "    </tr>\n",
       "    <tr>\n",
       "      <th>16</th>\n",
       "      <td>crystal farms reduced fat shredded marble jack...</td>\n",
       "      <td>cheese reduced shredded fat</td>\n",
       "    </tr>\n",
       "    <tr>\n",
       "      <th>17</th>\n",
       "      <td>frozen orange juice concentrate, thawed and un...</td>\n",
       "      <td>juice orange concentrate frozen</td>\n",
       "    </tr>\n",
       "    <tr>\n",
       "      <th>18</th>\n",
       "      <td>i can't believe it's not butter!® all purpose ...</td>\n",
       "      <td>butter!® not sticks it's can't believe purpose...</td>\n",
       "    </tr>\n",
       "    <tr>\n",
       "      <th>19</th>\n",
       "      <td>sargento® traditional cut shredded mozzarella ...</td>\n",
       "      <td>cheese mozzarella shredded</td>\n",
       "    </tr>\n",
       "    <tr>\n",
       "      <th>20</th>\n",
       "      <td>lipton sparkling diet green tea with strawberr...</td>\n",
       "      <td>green tea</td>\n",
       "    </tr>\n",
       "    <tr>\n",
       "      <th>21</th>\n",
       "      <td>hidden valley® greek yogurt original ranch® di...</td>\n",
       "      <td>greek yogurt</td>\n",
       "    </tr>\n",
       "    <tr>\n",
       "      <th>22</th>\n",
       "      <td>hidden valley® original ranch® spicy ranch dre...</td>\n",
       "      <td>valley® dressing ranch® hidden original</td>\n",
       "    </tr>\n",
       "    <tr>\n",
       "      <th>23</th>\n",
       "      <td>conimex woksaus specials vietnamese gember kno...</td>\n",
       "      <td>gember conimex specials knoflook woksaus vietn...</td>\n",
       "    </tr>\n",
       "    <tr>\n",
       "      <th>24</th>\n",
       "      <td>sargento® traditional cut shredded 4 cheese me...</td>\n",
       "      <td>cheese shredded</td>\n",
       "    </tr>\n",
       "    <tr>\n",
       "      <th>25</th>\n",
       "      <td>honeysuckle white® hot italian turkey sausage ...</td>\n",
       "      <td>turkey links sausage italian hot</td>\n",
       "    </tr>\n",
       "    <tr>\n",
       "      <th>26</th>\n",
       "      <td>ragu old world style sweet tomato basil pasta ...</td>\n",
       "      <td>pasta ragu style sauc old world</td>\n",
       "    </tr>\n",
       "    <tr>\n",
       "      <th>27</th>\n",
       "      <td>sargento® artisan blends® shredded parmesan ch...</td>\n",
       "      <td>cheese parmesan shredded</td>\n",
       "    </tr>\n",
       "    <tr>\n",
       "      <th>28</th>\n",
       "      <td>reduced sodium reduced fat cream of mushroom soup</td>\n",
       "      <td>sodium soup reduced cream of mushroom</td>\n",
       "    </tr>\n",
       "    <tr>\n",
       "      <th>29</th>\n",
       "      <td>reduced fat reduced sodium cream of mushroom soup</td>\n",
       "      <td>sodium soup reduced cream of mushroom</td>\n",
       "    </tr>\n",
       "    <tr>\n",
       "      <th>30</th>\n",
       "      <td>frozen lemonade concentrate, thawed and undiluted</td>\n",
       "      <td>concentrate lemonade frozen</td>\n",
       "    </tr>\n",
       "    <tr>\n",
       "      <th>31</th>\n",
       "      <td>shredded reduced fat reduced sodium swiss cheese</td>\n",
       "      <td>swiss reduced cheese fat</td>\n",
       "    </tr>\n",
       "    <tr>\n",
       "      <th>32</th>\n",
       "      <td>condensed reduced fat reduced sodium tomato soup</td>\n",
       "      <td>soup tomato condensed</td>\n",
       "    </tr>\n",
       "    <tr>\n",
       "      <th>33</th>\n",
       "      <td>frozen chopped spinach, thawed and squeezed dry</td>\n",
       "      <td>spinach chopped frozen</td>\n",
       "    </tr>\n",
       "    <tr>\n",
       "      <th>34</th>\n",
       "      <td>knorr reduc sodium chicken flavor bouillon cube</td>\n",
       "      <td>sodium knorr flavor chicken reduc bouillon</td>\n",
       "    </tr>\n",
       "    <tr>\n",
       "      <th>35</th>\n",
       "      <td>2 1/2 to 3 lb. chicken, cut into serving pieces</td>\n",
       "      <td>chicken pieces</td>\n",
       "    </tr>\n",
       "    <tr>\n",
       "      <th>36</th>\n",
       "      <td>kraft mexican style finely shredded four cheese</td>\n",
       "      <td>cheese shredded</td>\n",
       "    </tr>\n",
       "    <tr>\n",
       "      <th>37</th>\n",
       "      <td>frank's® redhot® original cayenne pepper sauce</td>\n",
       "      <td>pepper sauce cayenne</td>\n",
       "    </tr>\n",
       "    <tr>\n",
       "      <th>38</th>\n",
       "      <td>foster farms boneless skinless chicken breasts</td>\n",
       "      <td>chicken boneless skinless breasts</td>\n",
       "    </tr>\n",
       "    <tr>\n",
       "      <th>39</th>\n",
       "      <td>reduced sodium condensed cream of chicken soup</td>\n",
       "      <td>soup chicken cream of condensed</td>\n",
       "    </tr>\n",
       "    <tr>\n",
       "      <th>40</th>\n",
       "      <td>knorr tomato bouillon with chicken flavor cube</td>\n",
       "      <td>knorr flavor chicken tomato with bouillon</td>\n",
       "    </tr>\n",
       "    <tr>\n",
       "      <th>41</th>\n",
       "      <td>pompeian canola oil and extra virgin olive oil</td>\n",
       "      <td>oil virgin olive</td>\n",
       "    </tr>\n",
       "    <tr>\n",
       "      <th>42</th>\n",
       "      <td>hidden valley® original ranch® light dressing</td>\n",
       "      <td>valley® dressing ranch® hidden original</td>\n",
       "    </tr>\n",
       "    <tr>\n",
       "      <th>43</th>\n",
       "      <td>pillsbury™ refrigerated crescent dinner rolls</td>\n",
       "      <td>rolls refrigerated crescent</td>\n",
       "    </tr>\n",
       "    <tr>\n",
       "      <th>44</th>\n",
       "      <td>taco bell® home originals® taco seasoning mix</td>\n",
       "      <td>seasoning taco mix</td>\n",
       "    </tr>\n",
       "    <tr>\n",
       "      <th>45</th>\n",
       "      <td>soy vay® veri veri teriyaki® marinade &amp; sauce</td>\n",
       "      <td>sauce soy</td>\n",
       "    </tr>\n",
       "    <tr>\n",
       "      <th>46</th>\n",
       "      <td>uncle ben's ready rice whole grain brown rice</td>\n",
       "      <td>rice whole grain</td>\n",
       "    </tr>\n",
       "    <tr>\n",
       "      <th>47</th>\n",
       "      <td>reduced sodium italian style stewed tomatoes</td>\n",
       "      <td>italian tomatoes stewed style</td>\n",
       "    </tr>\n",
       "    <tr>\n",
       "      <th>48</th>\n",
       "      <td>kraft reduced fat shredded mozzarella cheese</td>\n",
       "      <td>cheese reduced shredded fat</td>\n",
       "    </tr>\n",
       "    <tr>\n",
       "      <th>49</th>\n",
       "      <td>skinless and boneless chicken breast fillet</td>\n",
       "      <td>chicken breast boneless skinless</td>\n",
       "    </tr>\n",
       "  </tbody>\n",
       "</table>\n",
       "</div>"
      ],
      "text/plain": [
       "                                  original ingredient  \\\n",
       "0   pillsbury™ crescent recipe creations® refriger...   \n",
       "1   kraft mexican style shredded four cheese with ...   \n",
       "2   bertolli vineyard premium collect marinara wit...   \n",
       "3   hidden valley® farmhouse originals italian wit...   \n",
       "4   kraft shredded pepper jack cheese with a touch...   \n",
       "5   hidden valley® original ranch salad® dressing ...   \n",
       "6   condensed reduced fat reduced sodium cream of ...   \n",
       "7   hellmannâ€™ or best food canola cholesterol fr...   \n",
       "8   condensed reduced fat reduced sodium cream of ...   \n",
       "9   i can't believ it' not butter! made with olive...   \n",
       "10  (10 oz.) frozen chopped spinach, thawed and sq...   \n",
       "11  wish-bone light asian sesame ginger vinaigrett...   \n",
       "12  kraft shredded low-moisture part-skim mozzarel...   \n",
       "13  kraft mexican style 2% milk finely shredded fo...   \n",
       "14  hurst family harvest chipotle lime black bean ...   \n",
       "15  reduced fat reduced sodium tomato and herb pas...   \n",
       "16  crystal farms reduced fat shredded marble jack...   \n",
       "17  frozen orange juice concentrate, thawed and un...   \n",
       "18  i can't believe it's not butter!® all purpose ...   \n",
       "19  sargento® traditional cut shredded mozzarella ...   \n",
       "20  lipton sparkling diet green tea with strawberr...   \n",
       "21  hidden valley® greek yogurt original ranch® di...   \n",
       "22  hidden valley® original ranch® spicy ranch dre...   \n",
       "23  conimex woksaus specials vietnamese gember kno...   \n",
       "24  sargento® traditional cut shredded 4 cheese me...   \n",
       "25  honeysuckle white® hot italian turkey sausage ...   \n",
       "26  ragu old world style sweet tomato basil pasta ...   \n",
       "27  sargento® artisan blends® shredded parmesan ch...   \n",
       "28  reduced sodium reduced fat cream of mushroom soup   \n",
       "29  reduced fat reduced sodium cream of mushroom soup   \n",
       "30  frozen lemonade concentrate, thawed and undiluted   \n",
       "31   shredded reduced fat reduced sodium swiss cheese   \n",
       "32   condensed reduced fat reduced sodium tomato soup   \n",
       "33    frozen chopped spinach, thawed and squeezed dry   \n",
       "34    knorr reduc sodium chicken flavor bouillon cube   \n",
       "35    2 1/2 to 3 lb. chicken, cut into serving pieces   \n",
       "36    kraft mexican style finely shredded four cheese   \n",
       "37     frank's® redhot® original cayenne pepper sauce   \n",
       "38     foster farms boneless skinless chicken breasts   \n",
       "39     reduced sodium condensed cream of chicken soup   \n",
       "40     knorr tomato bouillon with chicken flavor cube   \n",
       "41     pompeian canola oil and extra virgin olive oil   \n",
       "42      hidden valley® original ranch® light dressing   \n",
       "43      pillsbury™ refrigerated crescent dinner rolls   \n",
       "44      taco bell® home originals® taco seasoning mix   \n",
       "45      soy vay® veri veri teriyaki® marinade & sauce   \n",
       "46      uncle ben's ready rice whole grain brown rice   \n",
       "47       reduced sodium italian style stewed tomatoes   \n",
       "48       kraft reduced fat shredded mozzarella cheese   \n",
       "49        skinless and boneless chicken breast fillet   \n",
       "\n",
       "                                  improved ingredient  \n",
       "0                refrigerated dough crescent seamless  \n",
       "1                                     cheese shredded  \n",
       "2   vineyard bertolli wine premium burgundi marina...  \n",
       "3                                       herbs italian  \n",
       "4                   kraft pepper jack cheese shredded  \n",
       "5                                      ranch dressing  \n",
       "6           sodium soup reduced cream fat of mushroom  \n",
       "7   or cholesterol food canola mayonnais hellmannâ...  \n",
       "8      sodium soup chicken reduced cream of condensed  \n",
       "9                                           oil olive  \n",
       "10     spinach squeezed frozen thawed chopped and dry  \n",
       "11                               vinaigrette dressing  \n",
       "12                   cheese kraft mozzarella shredded  \n",
       "13    kraft finely cheese shredded style mexican four  \n",
       "14                                      soup mix bean  \n",
       "15                                       sauce tomato  \n",
       "16                        cheese reduced shredded fat  \n",
       "17                    juice orange concentrate frozen  \n",
       "18  butter!® not sticks it's can't believe purpose...  \n",
       "19                         cheese mozzarella shredded  \n",
       "20                                          green tea  \n",
       "21                                       greek yogurt  \n",
       "22            valley® dressing ranch® hidden original  \n",
       "23  gember conimex specials knoflook woksaus vietn...  \n",
       "24                                    cheese shredded  \n",
       "25                   turkey links sausage italian hot  \n",
       "26                    pasta ragu style sauc old world  \n",
       "27                           cheese parmesan shredded  \n",
       "28              sodium soup reduced cream of mushroom  \n",
       "29              sodium soup reduced cream of mushroom  \n",
       "30                        concentrate lemonade frozen  \n",
       "31                           swiss reduced cheese fat  \n",
       "32                              soup tomato condensed  \n",
       "33                             spinach chopped frozen  \n",
       "34         sodium knorr flavor chicken reduc bouillon  \n",
       "35                                     chicken pieces  \n",
       "36                                    cheese shredded  \n",
       "37                               pepper sauce cayenne  \n",
       "38                  chicken boneless skinless breasts  \n",
       "39                    soup chicken cream of condensed  \n",
       "40          knorr flavor chicken tomato with bouillon  \n",
       "41                                   oil virgin olive  \n",
       "42            valley® dressing ranch® hidden original  \n",
       "43                        rolls refrigerated crescent  \n",
       "44                                 seasoning taco mix  \n",
       "45                                          sauce soy  \n",
       "46                                   rice whole grain  \n",
       "47                      italian tomatoes stewed style  \n",
       "48                        cheese reduced shredded fat  \n",
       "49                   chicken breast boneless skinless  "
      ]
     },
     "execution_count": 95,
     "metadata": {},
     "output_type": "execute_result"
    }
   ],
   "source": [
    "pd.DataFrame([(text, \n",
    "               \" \".join(best_replacement_increasing_distance(to_ingredient(text), vocabulary))) \n",
    "              for text in sorted(set(all_ingredients_text), key=len, reverse=True)[:50]],\n",
    "            columns=['original ingredient', 'improved ingredient'])"
   ]
  },
  {
   "cell_type": "code",
   "execution_count": 96,
   "metadata": {
    "collapsed": true
   },
   "outputs": [],
   "source": [
    "df_train['all_ingredients'] = df_train['ingredients'].map(\";\".join)\n",
    "from sklearn.feature_extraction.text import CountVectorizer\n",
    "cv = CountVectorizer()\n",
    "X = cv.fit_transform(df_train['all_ingredients'].values)\n",
    "from sklearn.preprocessing import LabelEncoder\n",
    "enc = LabelEncoder()\n",
    "y = enc.fit_transform(df_train.cuisine)\n",
    "from sklearn.cross_validation import train_test_split\n",
    "X_train, X_test, y_train, y_test = train_test_split(X, y, test_size=0.2)\n"
   ]
  },
  {
   "cell_type": "code",
   "execution_count": 97,
   "metadata": {
    "collapsed": true
   },
   "outputs": [],
   "source": [
    "from sklearn.cross_validation import cross_val_score, KFold\n",
    "from scipy.stats import sem\n",
    "import numpy as np\n",
    "def evaluate_cross_validation(clf, X, y, K):\n",
    "    # create a k-fold cross validation iterator\n",
    "    cv = KFold(len(y), K, shuffle=True, random_state=0)\n",
    "    # by default the score used is the one returned by score method of the estimator (accuracy)\n",
    "    scores = cross_val_score(clf, X, y, cv=cv)\n",
    "    print (scores)\n",
    "    print (\"Mean score: {0:.3f} (+/-{1:.3f})\".format(\n",
    "        np.mean(scores), sem(scores)))"
   ]
  },
  {
   "cell_type": "code",
   "execution_count": 98,
   "metadata": {},
   "outputs": [
    {
     "name": "stdout",
     "output_type": "stream",
     "text": [
      "[ 0.79182904  0.78830924  0.78290383  0.79019485  0.78124214]\n",
      "Mean score: 0.787 (+/-0.002)\n"
     ]
    }
   ],
   "source": [
    "from sklearn.linear_model import LogisticRegression\n",
    "logistic = LogisticRegression()\n",
    "evaluate_cross_validation(logistic, X, y, 5)"
   ]
  },
  {
   "cell_type": "code",
   "execution_count": 99,
   "metadata": {
    "collapsed": true
   },
   "outputs": [],
   "source": [
    "def clean_string(ingredient_text):\n",
    "    \"Cleans the ingredient from special characters and returns it as lowercase.\"\n",
    "    return \"\".join([char for char in ingredient_text.lower() if char.isalnum() or char.isspace()])"
   ]
  },
  {
   "cell_type": "code",
   "execution_count": 100,
   "metadata": {},
   "outputs": [
    {
     "data": {
      "text/plain": [
       "'franks redhot original cayenne pepper sauce'"
      ]
     },
     "execution_count": 100,
     "metadata": {},
     "output_type": "execute_result"
    }
   ],
   "source": [
    "clean_string(\"frank's® redhot® original cayenne pepper sauce\")"
   ]
  },
  {
   "cell_type": "code",
   "execution_count": 101,
   "metadata": {},
   "outputs": [
    {
     "data": {
      "text/plain": [
       "'2 12 to 3 lb chicken cut into serving pieces'"
      ]
     },
     "execution_count": 101,
     "metadata": {},
     "output_type": "execute_result"
    }
   ],
   "source": [
    "clean_string(\"2 1/2 to 3 lb. chicken, cut into serving pieces\")"
   ]
  },
  {
   "cell_type": "code",
   "execution_count": 102,
   "metadata": {
    "collapsed": true
   },
   "outputs": [],
   "source": [
    "%matplotlib inline\n",
    "import matplotlib.pyplot as plt\n",
    "plt.style.use('bmh')"
   ]
  },
  {
   "cell_type": "code",
   "execution_count": 103,
   "metadata": {},
   "outputs": [
    {
     "data": {
      "text/plain": [
       "<matplotlib.axes._subplots.AxesSubplot at 0x1a3f1da5c0>"
      ]
     },
     "execution_count": 103,
     "metadata": {},
     "output_type": "execute_result"
    },
    {
     "data": {
      "image/png": "[encoded data removed]",
      "text/plain": [
       "<matplotlib.figure.Figure at 0x1a3f1dae10>"
      ]
     },
     "metadata": {},
     "output_type": "display_data"
    }
   ],
   "source": [
    "plt.figure(figsize=(10, 6))\n",
    "pd.Series(vocabulary).sort_values().plot(logy=True)"
   ]
  },
  {
   "cell_type": "code",
   "execution_count": 104,
   "metadata": {
    "collapsed": true
   },
   "outputs": [],
   "source": [
    "def improve_ingredients(ingredient_list):\n",
    "    \"Improves the list of ingredients given as input.\"\n",
    "    better_ingredients = []\n",
    "    for ingredient in ingredient_list:\n",
    "        cleaned_ingredient = clean_string(ingredient)\n",
    "        if vocabulary[to_ingredient(cleaned_ingredient)] <= 100:\n",
    "            better_ingredients.append(\" \".join(best_replacement_increasing_distance(\n",
    "                                        to_ingredient(cleaned_ingredient), vocabulary)))\n",
    "        else:\n",
    "            better_ingredients.append(cleaned_ingredient)\n",
    "    return \";\".join(better_ingredients)"
   ]
  },
  {
   "cell_type": "code",
   "execution_count": 105,
   "metadata": {
    "collapsed": true
   },
   "outputs": [],
   "source": [
    "df_test = pd.read_json(codecs.open('test.json', 'r', 'utf-8'))\n",
    "all_ingredients_text = []\n",
    "for df in [df_train, df_test]:\n",
    "    for ingredient_list in df.ingredients:\n",
    "        all_ingredients_text += [clean_string(ing) for ing in ingredient_list]\n",
    "all_ingredients = [to_ingredient(text) for text in all_ingredients_text]\n",
    "c = Counter(all_ingredients)\n",
    "vocabulary = dict(c.most_common())"
   ]
  },
  {
   "cell_type": "code",
   "execution_count": 106,
   "metadata": {
    "collapsed": true
   },
   "outputs": [],
   "source": [
    "df_train['better_ingredients'] = df_train['ingredients'].map(improve_ingredients)"
   ]
  },
  {
   "cell_type": "code",
   "execution_count": 107,
   "metadata": {},
   "outputs": [
    {
     "data": {
      "text/html": [
       "<div>\n",
       "<style>\n",
       "    .dataframe thead tr:only-child th {\n",
       "        text-align: right;\n",
       "    }\n",
       "\n",
       "    .dataframe thead th {\n",
       "        text-align: left;\n",
       "    }\n",
       "\n",
       "    .dataframe tbody tr th {\n",
       "        vertical-align: top;\n",
       "    }\n",
       "</style>\n",
       "<table border=\"1\" class=\"dataframe\">\n",
       "  <thead>\n",
       "    <tr style=\"text-align: right;\">\n",
       "      <th></th>\n",
       "      <th>cuisine</th>\n",
       "      <th>id</th>\n",
       "      <th>ingredients</th>\n",
       "      <th>all_ingredients</th>\n",
       "      <th>better_ingredients</th>\n",
       "    </tr>\n",
       "  </thead>\n",
       "  <tbody>\n",
       "    <tr>\n",
       "      <th>0</th>\n",
       "      <td>greek</td>\n",
       "      <td>10259</td>\n",
       "      <td>[romaine lettuce, black olives, grape tomatoes...</td>\n",
       "      <td>romaine lettuce;black olives;grape tomatoes;ga...</td>\n",
       "      <td>romaine lettuce;black olives;grape tomatoes;ga...</td>\n",
       "    </tr>\n",
       "    <tr>\n",
       "      <th>1</th>\n",
       "      <td>southern_us</td>\n",
       "      <td>25693</td>\n",
       "      <td>[plain flour, ground pepper, salt, tomatoes, g...</td>\n",
       "      <td>plain flour;ground pepper;salt;tomatoes;ground...</td>\n",
       "      <td>plain flour;ground pepper;salt;tomatoes;ground...</td>\n",
       "    </tr>\n",
       "    <tr>\n",
       "      <th>2</th>\n",
       "      <td>filipino</td>\n",
       "      <td>20130</td>\n",
       "      <td>[eggs, pepper, salt, mayonaise, cooking oil, g...</td>\n",
       "      <td>eggs;pepper;salt;mayonaise;cooking oil;green c...</td>\n",
       "      <td>eggs;pepper;salt;mayonaise;cooking oil;green c...</td>\n",
       "    </tr>\n",
       "    <tr>\n",
       "      <th>3</th>\n",
       "      <td>indian</td>\n",
       "      <td>22213</td>\n",
       "      <td>[water, vegetable oil, wheat, salt]</td>\n",
       "      <td>water;vegetable oil;wheat;salt</td>\n",
       "      <td>water;vegetable oil;wheat;salt</td>\n",
       "    </tr>\n",
       "    <tr>\n",
       "      <th>4</th>\n",
       "      <td>indian</td>\n",
       "      <td>13162</td>\n",
       "      <td>[black pepper, shallots, cornflour, cayenne pe...</td>\n",
       "      <td>black pepper;shallots;cornflour;cayenne pepper...</td>\n",
       "      <td>black pepper;shallots;cornflour;cayenne pepper...</td>\n",
       "    </tr>\n",
       "    <tr>\n",
       "      <th>5</th>\n",
       "      <td>jamaican</td>\n",
       "      <td>6602</td>\n",
       "      <td>[plain flour, sugar, butter, eggs, fresh ginge...</td>\n",
       "      <td>plain flour;sugar;butter;eggs;fresh ginger roo...</td>\n",
       "      <td>plain flour;sugar;butter;eggs;fresh ginger roo...</td>\n",
       "    </tr>\n",
       "    <tr>\n",
       "      <th>6</th>\n",
       "      <td>spanish</td>\n",
       "      <td>42779</td>\n",
       "      <td>[olive oil, salt, medium shrimp, pepper, garli...</td>\n",
       "      <td>olive oil;salt;medium shrimp;pepper;garlic;cho...</td>\n",
       "      <td>olive oil;salt;medium shrimp;pepper;garlic;cho...</td>\n",
       "    </tr>\n",
       "    <tr>\n",
       "      <th>7</th>\n",
       "      <td>italian</td>\n",
       "      <td>3735</td>\n",
       "      <td>[sugar, pistachio nuts, white almond bark, flo...</td>\n",
       "      <td>sugar;pistachio nuts;white almond bark;flour;v...</td>\n",
       "      <td>sugar;nuts pistachio;almond bark white;flour;v...</td>\n",
       "    </tr>\n",
       "    <tr>\n",
       "      <th>8</th>\n",
       "      <td>mexican</td>\n",
       "      <td>16903</td>\n",
       "      <td>[olive oil, purple onion, fresh pineapple, por...</td>\n",
       "      <td>olive oil;purple onion;fresh pineapple;pork;po...</td>\n",
       "      <td>olive oil;purple onion;fresh pineapple;pork;po...</td>\n",
       "    </tr>\n",
       "    <tr>\n",
       "      <th>9</th>\n",
       "      <td>italian</td>\n",
       "      <td>12734</td>\n",
       "      <td>[chopped tomatoes, fresh basil, garlic, extra-...</td>\n",
       "      <td>chopped tomatoes;fresh basil;garlic;extra-virg...</td>\n",
       "      <td>chopped tomatoes;fresh basil;garlic;extravirgi...</td>\n",
       "    </tr>\n",
       "  </tbody>\n",
       "</table>\n",
       "</div>"
      ],
      "text/plain": [
       "       cuisine     id                                        ingredients  \\\n",
       "0        greek  10259  [romaine lettuce, black olives, grape tomatoes...   \n",
       "1  southern_us  25693  [plain flour, ground pepper, salt, tomatoes, g...   \n",
       "2     filipino  20130  [eggs, pepper, salt, mayonaise, cooking oil, g...   \n",
       "3       indian  22213                [water, vegetable oil, wheat, salt]   \n",
       "4       indian  13162  [black pepper, shallots, cornflour, cayenne pe...   \n",
       "5     jamaican   6602  [plain flour, sugar, butter, eggs, fresh ginge...   \n",
       "6      spanish  42779  [olive oil, salt, medium shrimp, pepper, garli...   \n",
       "7      italian   3735  [sugar, pistachio nuts, white almond bark, flo...   \n",
       "8      mexican  16903  [olive oil, purple onion, fresh pineapple, por...   \n",
       "9      italian  12734  [chopped tomatoes, fresh basil, garlic, extra-...   \n",
       "\n",
       "                                     all_ingredients  \\\n",
       "0  romaine lettuce;black olives;grape tomatoes;ga...   \n",
       "1  plain flour;ground pepper;salt;tomatoes;ground...   \n",
       "2  eggs;pepper;salt;mayonaise;cooking oil;green c...   \n",
       "3                     water;vegetable oil;wheat;salt   \n",
       "4  black pepper;shallots;cornflour;cayenne pepper...   \n",
       "5  plain flour;sugar;butter;eggs;fresh ginger roo...   \n",
       "6  olive oil;salt;medium shrimp;pepper;garlic;cho...   \n",
       "7  sugar;pistachio nuts;white almond bark;flour;v...   \n",
       "8  olive oil;purple onion;fresh pineapple;pork;po...   \n",
       "9  chopped tomatoes;fresh basil;garlic;extra-virg...   \n",
       "\n",
       "                                  better_ingredients  \n",
       "0  romaine lettuce;black olives;grape tomatoes;ga...  \n",
       "1  plain flour;ground pepper;salt;tomatoes;ground...  \n",
       "2  eggs;pepper;salt;mayonaise;cooking oil;green c...  \n",
       "3                     water;vegetable oil;wheat;salt  \n",
       "4  black pepper;shallots;cornflour;cayenne pepper...  \n",
       "5  plain flour;sugar;butter;eggs;fresh ginger roo...  \n",
       "6  olive oil;salt;medium shrimp;pepper;garlic;cho...  \n",
       "7  sugar;nuts pistachio;almond bark white;flour;v...  \n",
       "8  olive oil;purple onion;fresh pineapple;pork;po...  \n",
       "9  chopped tomatoes;fresh basil;garlic;extravirgi...  "
      ]
     },
     "execution_count": 107,
     "metadata": {},
     "output_type": "execute_result"
    }
   ],
   "source": [
    "df_train.head(10)"
   ]
  },
  {
   "cell_type": "code",
   "execution_count": 108,
   "metadata": {
    "collapsed": true
   },
   "outputs": [],
   "source": [
    "X = cv.fit_transform(df_train['better_ingredients'].values)"
   ]
  },
  {
   "cell_type": "code",
   "execution_count": 109,
   "metadata": {},
   "outputs": [
    {
     "name": "stdout",
     "output_type": "stream",
     "text": [
      "[ 0.78818353  0.78667505  0.78214959  0.7894406   0.77923058]\n",
      "Mean score: 0.785 (+/-0.002)\n"
     ]
    }
   ],
   "source": [
    "evaluate_cross_validation(logistic, X, y, 5)"
   ]
  },
  {
   "cell_type": "code",
   "execution_count": 110,
   "metadata": {
    "collapsed": true
   },
   "outputs": [],
   "source": [
    "df_test['better_ingredients'] = df_test['ingredients'].map(improve_ingredients)"
   ]
  },
  {
   "cell_type": "code",
   "execution_count": 111,
   "metadata": {
    "collapsed": true
   },
   "outputs": [],
   "source": [
    "X_submit = cv.transform(df_test['better_ingredients'].values)"
   ]
  },
  {
   "cell_type": "code",
   "execution_count": 112,
   "metadata": {},
   "outputs": [
    {
     "data": {
      "text/plain": [
       "LogisticRegression(C=1.0, class_weight=None, dual=False, fit_intercept=True,\n",
       "          intercept_scaling=1, max_iter=100, multi_class='ovr', n_jobs=1,\n",
       "          penalty='l2', random_state=None, solver='liblinear', tol=0.0001,\n",
       "          verbose=0, warm_start=False)"
      ]
     },
     "execution_count": 112,
     "metadata": {},
     "output_type": "execute_result"
    }
   ],
   "source": [
    "logistic.fit(X, y)"
   ]
  },
  {
   "cell_type": "code",
   "execution_count": 119,
   "metadata": {},
   "outputs": [
    {
     "name": "stdout",
     "output_type": "stream",
     "text": [
      "{'C': 5, 'penalty': 'l2'}\n",
      "0.7908684064967064\n"
     ]
    }
   ],
   "source": [
    "from sklearn.grid_search import GridSearchCV\n",
    "lr = LogisticRegression(random_state=42)\n",
    "grid = {'penalty': ['l1', 'l2'], 'C': [0.001, 0.01, 0.1, 1, 2, 3, 5, 10]}\n",
    "clf = GridSearchCV(lr, param_grid = grid, scoring = 'accuracy', cv = 5)\n",
    "clf.fit(X, y)\n",
    "print(clf.best_params_)\n",
    "print(clf.best_score_)"
   ]
  },
  {
   "cell_type": "code",
   "execution_count": 120,
   "metadata": {
    "collapsed": true
   },
   "outputs": [],
   "source": [
    "from sklearn.ensemble import AdaBoostClassifier"
   ]
  },
  {
   "cell_type": "code",
   "execution_count": null,
   "metadata": {},
   "outputs": [],
   "source": []
  },
  {
   "cell_type": "code",
   "execution_count": null,
   "metadata": {
    "collapsed": true
   },
   "outputs": [],
   "source": []
  }
 ],
 "metadata": {
  "kernelspec": {
   "display_name": "Python 3",
   "language": "python",
   "name": "python3"
  },
  "language_info": {
   "codemirror_mode": {
    "name": "ipython",
    "version": 3
   },
   "file_extension": ".py",
   "mimetype": "text/x-python",
   "name": "python",
   "nbconvert_exporter": "python",
   "pygments_lexer": "ipython3",
   "version": "3.6.3"
  }
 },
 "nbformat": 4,
 "nbformat_minor": 2
}
